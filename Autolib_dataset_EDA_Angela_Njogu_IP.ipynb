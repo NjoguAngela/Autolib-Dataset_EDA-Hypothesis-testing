{
  "nbformat": 4,
  "nbformat_minor": 0,
  "metadata": {
    "colab": {
      "name": "Autolib_dataset_EDA_Angela_Njogu_IP.ipynb",
      "provenance": []
    },
    "kernelspec": {
      "name": "python3",
      "display_name": "Python 3"
    },
    "language_info": {
      "name": "python"
    }
  },
  "cells": [
    {
      "cell_type": "markdown",
      "metadata": {
        "id": "OY71ez7-lqlg"
      },
      "source": [
        "# Autolib dataset EDA and hyothesis testing"
      ]
    },
    {
      "cell_type": "markdown",
      "metadata": {
        "id": "hyHzeVKhlpaQ"
      },
      "source": [
        "## Objectives of the analysis"
      ]
    },
    {
      "cell_type": "markdown",
      "metadata": {
        "id": "goCcMklll-UE"
      },
      "source": [
        "The objectives of this analysis are:\n",
        "1. to make observations about number of cars taken from an autolib station and  how that relates to differences in location and days of the week.\n",
        "2. to test my hypothesis and come to an appropriate decision."
      ]
    },
    {
      "cell_type": "markdown",
      "metadata": {
        "id": "lPfstUM0l-6k"
      },
      "source": [
        "## Metrics of success"
      ]
    },
    {
      "cell_type": "markdown",
      "metadata": {
        "id": "FQBK4MVHmDqI"
      },
      "source": [
        "To consider this analysis successful, I should have been able come to a decision to either reject or fail to reject my null hypothesis and have been able to make appropriate inferences in regards to my findings."
      ]
    },
    {
      "cell_type": "markdown",
      "metadata": {
        "id": "c0fBVIhhmEIA"
      },
      "source": [
        "## Importing the necessary libraries"
      ]
    },
    {
      "cell_type": "code",
      "metadata": {
        "id": "KIl3dzQll6se"
      },
      "source": [
        "import numpy as np\n",
        "import pandas as pd\n",
        "from scipy import stats\n",
        "import matplotlib.pyplot as plt\n",
        "import seaborn as sns"
      ],
      "execution_count": 1,
      "outputs": []
    },
    {
      "cell_type": "code",
      "metadata": {
        "id": "QeJ-Of89egfg"
      },
      "source": [
        "# setting standard parameters for my visualizations by matplotlib\n",
        "plt.rcParams['figure.figsize'] = (8,6)\n",
        "plt.rcParams['axes.titlesize'] = 16\n",
        "plt.rcParams['axes.titleweight'] = 700\n",
        "plt.rcParams['axes.labelsize'] = 12"
      ],
      "execution_count": 2,
      "outputs": []
    },
    {
      "cell_type": "markdown",
      "metadata": {
        "id": "MElOAJCLoO25"
      },
      "source": [
        "## Loading our data"
      ]
    },
    {
      "cell_type": "code",
      "metadata": {
        "id": "HdwZsIl4ocoH"
      },
      "source": [
        "Autolib = pd.read_csv('http://bit.ly/DSCoreAutolibDataset')\n"
      ],
      "execution_count": 3,
      "outputs": []
    },
    {
      "cell_type": "markdown",
      "metadata": {
        "id": "5fzlL1lypPQn"
      },
      "source": [
        "## Checking our data"
      ]
    },
    {
      "cell_type": "code",
      "metadata": {
        "colab": {
          "base_uri": "https://localhost:8080/"
        },
        "id": "oHlh1RovpkNd",
        "outputId": "d3717c00-5de4-4fb7-cbf4-f5c899e16e1b"
      },
      "source": [
        "# checking the shape of our data\n",
        "print('Our dataset has', Autolib.shape[0],'rows and', Autolib.shape[1],'columns.')"
      ],
      "execution_count": 4,
      "outputs": [
        {
          "output_type": "stream",
          "name": "stdout",
          "text": [
            "Our dataset has 16085 rows and 13 columns.\n"
          ]
        }
      ]
    },
    {
      "cell_type": "code",
      "metadata": {
        "colab": {
          "base_uri": "https://localhost:8080/",
          "height": 0
        },
        "id": "PKJ9_BIZpSe2",
        "outputId": "eaa68a45-825c-4d66-a2c8-261de4319798"
      },
      "source": [
        "# checking the head of our data\n",
        "Autolib.head()"
      ],
      "execution_count": 5,
      "outputs": [
        {
          "output_type": "execute_result",
          "data": {
            "text/html": [
              "<div>\n",
              "<style scoped>\n",
              "    .dataframe tbody tr th:only-of-type {\n",
              "        vertical-align: middle;\n",
              "    }\n",
              "\n",
              "    .dataframe tbody tr th {\n",
              "        vertical-align: top;\n",
              "    }\n",
              "\n",
              "    .dataframe thead th {\n",
              "        text-align: right;\n",
              "    }\n",
              "</style>\n",
              "<table border=\"1\" class=\"dataframe\">\n",
              "  <thead>\n",
              "    <tr style=\"text-align: right;\">\n",
              "      <th></th>\n",
              "      <th>Postal code</th>\n",
              "      <th>date</th>\n",
              "      <th>n_daily_data_points</th>\n",
              "      <th>dayOfWeek</th>\n",
              "      <th>day_type</th>\n",
              "      <th>BlueCars_taken_sum</th>\n",
              "      <th>BlueCars_returned_sum</th>\n",
              "      <th>Utilib_taken_sum</th>\n",
              "      <th>Utilib_returned_sum</th>\n",
              "      <th>Utilib_14_taken_sum</th>\n",
              "      <th>Utilib_14_returned_sum</th>\n",
              "      <th>Slots_freed_sum</th>\n",
              "      <th>Slots_taken_sum</th>\n",
              "    </tr>\n",
              "  </thead>\n",
              "  <tbody>\n",
              "    <tr>\n",
              "      <th>0</th>\n",
              "      <td>75001</td>\n",
              "      <td>1/1/2018</td>\n",
              "      <td>1440</td>\n",
              "      <td>0</td>\n",
              "      <td>weekday</td>\n",
              "      <td>110</td>\n",
              "      <td>103</td>\n",
              "      <td>3</td>\n",
              "      <td>2</td>\n",
              "      <td>10</td>\n",
              "      <td>9</td>\n",
              "      <td>22</td>\n",
              "      <td>20</td>\n",
              "    </tr>\n",
              "    <tr>\n",
              "      <th>1</th>\n",
              "      <td>75001</td>\n",
              "      <td>1/2/2018</td>\n",
              "      <td>1438</td>\n",
              "      <td>1</td>\n",
              "      <td>weekday</td>\n",
              "      <td>98</td>\n",
              "      <td>94</td>\n",
              "      <td>1</td>\n",
              "      <td>1</td>\n",
              "      <td>8</td>\n",
              "      <td>8</td>\n",
              "      <td>23</td>\n",
              "      <td>22</td>\n",
              "    </tr>\n",
              "    <tr>\n",
              "      <th>2</th>\n",
              "      <td>75001</td>\n",
              "      <td>1/3/2018</td>\n",
              "      <td>1439</td>\n",
              "      <td>2</td>\n",
              "      <td>weekday</td>\n",
              "      <td>138</td>\n",
              "      <td>139</td>\n",
              "      <td>0</td>\n",
              "      <td>0</td>\n",
              "      <td>2</td>\n",
              "      <td>2</td>\n",
              "      <td>27</td>\n",
              "      <td>27</td>\n",
              "    </tr>\n",
              "    <tr>\n",
              "      <th>3</th>\n",
              "      <td>75001</td>\n",
              "      <td>1/4/2018</td>\n",
              "      <td>1320</td>\n",
              "      <td>3</td>\n",
              "      <td>weekday</td>\n",
              "      <td>104</td>\n",
              "      <td>104</td>\n",
              "      <td>2</td>\n",
              "      <td>2</td>\n",
              "      <td>9</td>\n",
              "      <td>8</td>\n",
              "      <td>25</td>\n",
              "      <td>21</td>\n",
              "    </tr>\n",
              "    <tr>\n",
              "      <th>4</th>\n",
              "      <td>75001</td>\n",
              "      <td>1/5/2018</td>\n",
              "      <td>1440</td>\n",
              "      <td>4</td>\n",
              "      <td>weekday</td>\n",
              "      <td>114</td>\n",
              "      <td>117</td>\n",
              "      <td>3</td>\n",
              "      <td>3</td>\n",
              "      <td>6</td>\n",
              "      <td>6</td>\n",
              "      <td>18</td>\n",
              "      <td>20</td>\n",
              "    </tr>\n",
              "  </tbody>\n",
              "</table>\n",
              "</div>"
            ],
            "text/plain": [
              "   Postal code      date  ...  Slots_freed_sum  Slots_taken_sum\n",
              "0        75001  1/1/2018  ...               22               20\n",
              "1        75001  1/2/2018  ...               23               22\n",
              "2        75001  1/3/2018  ...               27               27\n",
              "3        75001  1/4/2018  ...               25               21\n",
              "4        75001  1/5/2018  ...               18               20\n",
              "\n",
              "[5 rows x 13 columns]"
            ]
          },
          "metadata": {},
          "execution_count": 5
        }
      ]
    },
    {
      "cell_type": "code",
      "metadata": {
        "colab": {
          "base_uri": "https://localhost:8080/",
          "height": 0
        },
        "id": "xm_rO5LApb3t",
        "outputId": "1e7d4d71-be7e-4b7b-fe49-0b2e53e5f4bd"
      },
      "source": [
        "# checking the tail end of our dataset\n",
        "Autolib.tail()"
      ],
      "execution_count": 6,
      "outputs": [
        {
          "output_type": "execute_result",
          "data": {
            "text/html": [
              "<div>\n",
              "<style scoped>\n",
              "    .dataframe tbody tr th:only-of-type {\n",
              "        vertical-align: middle;\n",
              "    }\n",
              "\n",
              "    .dataframe tbody tr th {\n",
              "        vertical-align: top;\n",
              "    }\n",
              "\n",
              "    .dataframe thead th {\n",
              "        text-align: right;\n",
              "    }\n",
              "</style>\n",
              "<table border=\"1\" class=\"dataframe\">\n",
              "  <thead>\n",
              "    <tr style=\"text-align: right;\">\n",
              "      <th></th>\n",
              "      <th>Postal code</th>\n",
              "      <th>date</th>\n",
              "      <th>n_daily_data_points</th>\n",
              "      <th>dayOfWeek</th>\n",
              "      <th>day_type</th>\n",
              "      <th>BlueCars_taken_sum</th>\n",
              "      <th>BlueCars_returned_sum</th>\n",
              "      <th>Utilib_taken_sum</th>\n",
              "      <th>Utilib_returned_sum</th>\n",
              "      <th>Utilib_14_taken_sum</th>\n",
              "      <th>Utilib_14_returned_sum</th>\n",
              "      <th>Slots_freed_sum</th>\n",
              "      <th>Slots_taken_sum</th>\n",
              "    </tr>\n",
              "  </thead>\n",
              "  <tbody>\n",
              "    <tr>\n",
              "      <th>16080</th>\n",
              "      <td>95880</td>\n",
              "      <td>6/15/2018</td>\n",
              "      <td>1440</td>\n",
              "      <td>4</td>\n",
              "      <td>weekday</td>\n",
              "      <td>15</td>\n",
              "      <td>10</td>\n",
              "      <td>0</td>\n",
              "      <td>0</td>\n",
              "      <td>2</td>\n",
              "      <td>3</td>\n",
              "      <td>0</td>\n",
              "      <td>0</td>\n",
              "    </tr>\n",
              "    <tr>\n",
              "      <th>16081</th>\n",
              "      <td>95880</td>\n",
              "      <td>6/16/2018</td>\n",
              "      <td>1440</td>\n",
              "      <td>5</td>\n",
              "      <td>weekend</td>\n",
              "      <td>19</td>\n",
              "      <td>19</td>\n",
              "      <td>0</td>\n",
              "      <td>0</td>\n",
              "      <td>2</td>\n",
              "      <td>1</td>\n",
              "      <td>0</td>\n",
              "      <td>0</td>\n",
              "    </tr>\n",
              "    <tr>\n",
              "      <th>16082</th>\n",
              "      <td>95880</td>\n",
              "      <td>6/17/2018</td>\n",
              "      <td>1440</td>\n",
              "      <td>6</td>\n",
              "      <td>weekend</td>\n",
              "      <td>33</td>\n",
              "      <td>35</td>\n",
              "      <td>1</td>\n",
              "      <td>1</td>\n",
              "      <td>0</td>\n",
              "      <td>0</td>\n",
              "      <td>0</td>\n",
              "      <td>0</td>\n",
              "    </tr>\n",
              "    <tr>\n",
              "      <th>16083</th>\n",
              "      <td>95880</td>\n",
              "      <td>6/18/2018</td>\n",
              "      <td>1440</td>\n",
              "      <td>0</td>\n",
              "      <td>weekday</td>\n",
              "      <td>11</td>\n",
              "      <td>14</td>\n",
              "      <td>3</td>\n",
              "      <td>5</td>\n",
              "      <td>2</td>\n",
              "      <td>2</td>\n",
              "      <td>0</td>\n",
              "      <td>0</td>\n",
              "    </tr>\n",
              "    <tr>\n",
              "      <th>16084</th>\n",
              "      <td>95880</td>\n",
              "      <td>6/19/2018</td>\n",
              "      <td>1370</td>\n",
              "      <td>1</td>\n",
              "      <td>weekday</td>\n",
              "      <td>2</td>\n",
              "      <td>2</td>\n",
              "      <td>2</td>\n",
              "      <td>1</td>\n",
              "      <td>0</td>\n",
              "      <td>0</td>\n",
              "      <td>0</td>\n",
              "      <td>0</td>\n",
              "    </tr>\n",
              "  </tbody>\n",
              "</table>\n",
              "</div>"
            ],
            "text/plain": [
              "       Postal code       date  ...  Slots_freed_sum  Slots_taken_sum\n",
              "16080        95880  6/15/2018  ...                0                0\n",
              "16081        95880  6/16/2018  ...                0                0\n",
              "16082        95880  6/17/2018  ...                0                0\n",
              "16083        95880  6/18/2018  ...                0                0\n",
              "16084        95880  6/19/2018  ...                0                0\n",
              "\n",
              "[5 rows x 13 columns]"
            ]
          },
          "metadata": {},
          "execution_count": 6
        }
      ]
    },
    {
      "cell_type": "code",
      "metadata": {
        "colab": {
          "base_uri": "https://localhost:8080/"
        },
        "id": "0yl7hJE-p_bM",
        "outputId": "a2629cc1-1fdb-414f-d17c-56812ae19ce8"
      },
      "source": [
        "# checking the data types of our dataframe columns\n",
        "Autolib.dtypes"
      ],
      "execution_count": 7,
      "outputs": [
        {
          "output_type": "execute_result",
          "data": {
            "text/plain": [
              "Postal code                int64\n",
              "date                      object\n",
              "n_daily_data_points        int64\n",
              "dayOfWeek                  int64\n",
              "day_type                  object\n",
              "BlueCars_taken_sum         int64\n",
              "BlueCars_returned_sum      int64\n",
              "Utilib_taken_sum           int64\n",
              "Utilib_returned_sum        int64\n",
              "Utilib_14_taken_sum        int64\n",
              "Utilib_14_returned_sum     int64\n",
              "Slots_freed_sum            int64\n",
              "Slots_taken_sum            int64\n",
              "dtype: object"
            ]
          },
          "metadata": {},
          "execution_count": 7
        }
      ]
    },
    {
      "cell_type": "code",
      "metadata": {
        "colab": {
          "base_uri": "https://localhost:8080/"
        },
        "id": "v1-C3wzkWGV7",
        "outputId": "4c646efb-6557-4246-ef47-57d8a3152f21"
      },
      "source": [
        "# checking the values for returned and taken in the numerical variables describing the different cars.\n",
        "# the columns for returned and taken, ideally should be equal, assuming the cars are taken and returned on the same day.\n",
        "continous_variables =Autolib.iloc[:,5:13]\n",
        "print(continous_variables.sum())\n",
        "\n",
        "# the difference between the returned and taken for the different electric cars is present but very small, relative to the colletive data points for each car.\n",
        "# as the difference is small during my analysis, I shall use the taken columns for the different cars, as plotting both would be\n",
        "# redundant due to their similarity. Another reason why I picked the taken columns was that, I am generally more interested in the car taken that day.\n",
        "\n",
        " \n"
      ],
      "execution_count": 8,
      "outputs": [
        {
          "output_type": "stream",
          "name": "stdout",
          "text": [
            "BlueCars_taken_sum        2025535\n",
            "BlueCars_returned_sum     2025306\n",
            "Utilib_taken_sum            59487\n",
            "Utilib_returned_sum         59500\n",
            "Utilib_14_taken_sum        138340\n",
            "Utilib_14_returned_sum     138318\n",
            "Slots_freed_sum            363988\n",
            "Slots_taken_sum            363992\n",
            "dtype: int64\n"
          ]
        }
      ]
    },
    {
      "cell_type": "markdown",
      "metadata": {
        "id": "zMasNABRqSE2"
      },
      "source": [
        "## Tidying our dataset"
      ]
    },
    {
      "cell_type": "code",
      "metadata": {
        "id": "DOxplLBoqVnz"
      },
      "source": [
        "# By displaying the data types, I have been able to observe that the date column has been assigned an object data type. This needs to be a date type datatype instead.\n",
        "Autolib['date'] = pd.to_datetime(Autolib['date'])\n",
        "\n"
      ],
      "execution_count": 9,
      "outputs": []
    },
    {
      "cell_type": "code",
      "metadata": {
        "colab": {
          "base_uri": "https://localhost:8080/"
        },
        "id": "pAeJITC3r4Lr",
        "outputId": "b5cc2624-38a8-441d-c25b-3b0342c9859a"
      },
      "source": [
        "# detecting missing values in the dataset\n",
        "Autolib.isnull().sum()\n",
        "\n",
        "# there are no missing values in this dataset."
      ],
      "execution_count": 10,
      "outputs": [
        {
          "output_type": "execute_result",
          "data": {
            "text/plain": [
              "Postal code               0\n",
              "date                      0\n",
              "n_daily_data_points       0\n",
              "dayOfWeek                 0\n",
              "day_type                  0\n",
              "BlueCars_taken_sum        0\n",
              "BlueCars_returned_sum     0\n",
              "Utilib_taken_sum          0\n",
              "Utilib_returned_sum       0\n",
              "Utilib_14_taken_sum       0\n",
              "Utilib_14_returned_sum    0\n",
              "Slots_freed_sum           0\n",
              "Slots_taken_sum           0\n",
              "dtype: int64"
            ]
          },
          "metadata": {},
          "execution_count": 10
        }
      ]
    },
    {
      "cell_type": "code",
      "metadata": {
        "colab": {
          "base_uri": "https://localhost:8080/"
        },
        "id": "9OpfgwxH8k61",
        "outputId": "fa2b3eb5-aef6-45c0-bf0e-6f8d06f23d1f"
      },
      "source": [
        "# detecting anomalies in the dataset\n",
        "\n",
        "print(pd.unique(Autolib['day_type']))\n",
        "print('\\n')\n",
        "print(pd.unique(Autolib['dayOfWeek']))\n",
        "\n",
        "# the two above are discrete variables meaning only a few specified values are qualified. No anomalies were detected in the two columns"
      ],
      "execution_count": 11,
      "outputs": [
        {
          "output_type": "stream",
          "name": "stdout",
          "text": [
            "['weekday' 'weekend']\n",
            "\n",
            "\n",
            "[0 1 2 3 4 5 6]\n"
          ]
        }
      ]
    },
    {
      "cell_type": "code",
      "metadata": {
        "colab": {
          "base_uri": "https://localhost:8080/"
        },
        "id": "juAsr-Kt9V8M",
        "outputId": "4c6fafef-2a2c-4e54-a11d-0ed21510125e"
      },
      "source": [
        "# there are no duplicated records in this dataset.\n",
        "\n",
        "Autolib.duplicated().any()"
      ],
      "execution_count": 12,
      "outputs": [
        {
          "output_type": "execute_result",
          "data": {
            "text/plain": [
              "False"
            ]
          },
          "metadata": {},
          "execution_count": 12
        }
      ]
    },
    {
      "cell_type": "code",
      "metadata": {
        "colab": {
          "base_uri": "https://localhost:8080/",
          "height": 0
        },
        "id": "gHlQ1FyVnB0Z",
        "outputId": "b7712f3f-00fb-48f7-f79d-86b8c420941a"
      },
      "source": [
        "# detecting outliers.\n",
        "# plotting a boxplot to observe outliers in the number of daily data points.\n",
        "def plot_box(n):\n",
        " Autolib.boxplot(column=n, grid=True)\n",
        "\n",
        "plot_box('n_daily_data_points')\n",
        "# the outliers seem to be on the lower side."
      ],
      "execution_count": 13,
      "outputs": [
        {
          "output_type": "display_data",
          "data": {
            "image/png": "[encoded data removed]",
            "text/plain": [
              "<Figure size 576x432 with 1 Axes>"
            ]
          },
          "metadata": {
            "needs_background": "light"
          }
        }
      ]
    },
    {
      "cell_type": "code",
      "metadata": {
        "colab": {
          "base_uri": "https://localhost:8080/",
          "height": 0
        },
        "id": "zk2X66Jq9vVk",
        "outputId": "0e561edd-7281-4fae-b1fe-1cf987d5e3a0"
      },
      "source": [
        "# as I am only interested in the bluecars when testing my hypothesis, I am going to create another dataset only picking data relating to blue cars.\n",
        "\n",
        "Blue_cars = Autolib.iloc[:,0:7]\n",
        "Blue_cars"
      ],
      "execution_count": 14,
      "outputs": [
        {
          "output_type": "execute_result",
          "data": {
            "text/html": [
              "<div>\n",
              "<style scoped>\n",
              "    .dataframe tbody tr th:only-of-type {\n",
              "        vertical-align: middle;\n",
              "    }\n",
              "\n",
              "    .dataframe tbody tr th {\n",
              "        vertical-align: top;\n",
              "    }\n",
              "\n",
              "    .dataframe thead th {\n",
              "        text-align: right;\n",
              "    }\n",
              "</style>\n",
              "<table border=\"1\" class=\"dataframe\">\n",
              "  <thead>\n",
              "    <tr style=\"text-align: right;\">\n",
              "      <th></th>\n",
              "      <th>Postal code</th>\n",
              "      <th>date</th>\n",
              "      <th>n_daily_data_points</th>\n",
              "      <th>dayOfWeek</th>\n",
              "      <th>day_type</th>\n",
              "      <th>BlueCars_taken_sum</th>\n",
              "      <th>BlueCars_returned_sum</th>\n",
              "    </tr>\n",
              "  </thead>\n",
              "  <tbody>\n",
              "    <tr>\n",
              "      <th>0</th>\n",
              "      <td>75001</td>\n",
              "      <td>2018-01-01</td>\n",
              "      <td>1440</td>\n",
              "      <td>0</td>\n",
              "      <td>weekday</td>\n",
              "      <td>110</td>\n",
              "      <td>103</td>\n",
              "    </tr>\n",
              "    <tr>\n",
              "      <th>1</th>\n",
              "      <td>75001</td>\n",
              "      <td>2018-01-02</td>\n",
              "      <td>1438</td>\n",
              "      <td>1</td>\n",
              "      <td>weekday</td>\n",
              "      <td>98</td>\n",
              "      <td>94</td>\n",
              "    </tr>\n",
              "    <tr>\n",
              "      <th>2</th>\n",
              "      <td>75001</td>\n",
              "      <td>2018-01-03</td>\n",
              "      <td>1439</td>\n",
              "      <td>2</td>\n",
              "      <td>weekday</td>\n",
              "      <td>138</td>\n",
              "      <td>139</td>\n",
              "    </tr>\n",
              "    <tr>\n",
              "      <th>3</th>\n",
              "      <td>75001</td>\n",
              "      <td>2018-01-04</td>\n",
              "      <td>1320</td>\n",
              "      <td>3</td>\n",
              "      <td>weekday</td>\n",
              "      <td>104</td>\n",
              "      <td>104</td>\n",
              "    </tr>\n",
              "    <tr>\n",
              "      <th>4</th>\n",
              "      <td>75001</td>\n",
              "      <td>2018-01-05</td>\n",
              "      <td>1440</td>\n",
              "      <td>4</td>\n",
              "      <td>weekday</td>\n",
              "      <td>114</td>\n",
              "      <td>117</td>\n",
              "    </tr>\n",
              "    <tr>\n",
              "      <th>...</th>\n",
              "      <td>...</td>\n",
              "      <td>...</td>\n",
              "      <td>...</td>\n",
              "      <td>...</td>\n",
              "      <td>...</td>\n",
              "      <td>...</td>\n",
              "      <td>...</td>\n",
              "    </tr>\n",
              "    <tr>\n",
              "      <th>16080</th>\n",
              "      <td>95880</td>\n",
              "      <td>2018-06-15</td>\n",
              "      <td>1440</td>\n",
              "      <td>4</td>\n",
              "      <td>weekday</td>\n",
              "      <td>15</td>\n",
              "      <td>10</td>\n",
              "    </tr>\n",
              "    <tr>\n",
              "      <th>16081</th>\n",
              "      <td>95880</td>\n",
              "      <td>2018-06-16</td>\n",
              "      <td>1440</td>\n",
              "      <td>5</td>\n",
              "      <td>weekend</td>\n",
              "      <td>19</td>\n",
              "      <td>19</td>\n",
              "    </tr>\n",
              "    <tr>\n",
              "      <th>16082</th>\n",
              "      <td>95880</td>\n",
              "      <td>2018-06-17</td>\n",
              "      <td>1440</td>\n",
              "      <td>6</td>\n",
              "      <td>weekend</td>\n",
              "      <td>33</td>\n",
              "      <td>35</td>\n",
              "    </tr>\n",
              "    <tr>\n",
              "      <th>16083</th>\n",
              "      <td>95880</td>\n",
              "      <td>2018-06-18</td>\n",
              "      <td>1440</td>\n",
              "      <td>0</td>\n",
              "      <td>weekday</td>\n",
              "      <td>11</td>\n",
              "      <td>14</td>\n",
              "    </tr>\n",
              "    <tr>\n",
              "      <th>16084</th>\n",
              "      <td>95880</td>\n",
              "      <td>2018-06-19</td>\n",
              "      <td>1370</td>\n",
              "      <td>1</td>\n",
              "      <td>weekday</td>\n",
              "      <td>2</td>\n",
              "      <td>2</td>\n",
              "    </tr>\n",
              "  </tbody>\n",
              "</table>\n",
              "<p>16085 rows × 7 columns</p>\n",
              "</div>"
            ],
            "text/plain": [
              "       Postal code       date  ...  BlueCars_taken_sum  BlueCars_returned_sum\n",
              "0            75001 2018-01-01  ...                 110                    103\n",
              "1            75001 2018-01-02  ...                  98                     94\n",
              "2            75001 2018-01-03  ...                 138                    139\n",
              "3            75001 2018-01-04  ...                 104                    104\n",
              "4            75001 2018-01-05  ...                 114                    117\n",
              "...            ...        ...  ...                 ...                    ...\n",
              "16080        95880 2018-06-15  ...                  15                     10\n",
              "16081        95880 2018-06-16  ...                  19                     19\n",
              "16082        95880 2018-06-17  ...                  33                     35\n",
              "16083        95880 2018-06-18  ...                  11                     14\n",
              "16084        95880 2018-06-19  ...                   2                      2\n",
              "\n",
              "[16085 rows x 7 columns]"
            ]
          },
          "metadata": {},
          "execution_count": 14
        }
      ]
    },
    {
      "cell_type": "markdown",
      "metadata": {
        "id": "e4f_4k8CmPeb"
      },
      "source": [
        "## Univariate analysis"
      ]
    },
    {
      "cell_type": "code",
      "metadata": {
        "colab": {
          "base_uri": "https://localhost:8080/",
          "height": 503
        },
        "id": "a6cM-ZeKmSs6",
        "outputId": "fa80447e-1664-45a4-d9ba-048c8599fc94"
      },
      "source": [
        "# plotting the average number of cars taken and returned per day.\n",
        "\n",
        "# the columns I require are bluecars, utilib and utilib 14 sums for the cars taken that day.\n",
        "cars = Autolib.iloc[:,5:11:2]   # -------picking the rows indexes from 5 to 10 adn taking two steps.\n",
        "\n",
        "# finding the mean of the number of cars.\n",
        "averages = cars.mean()\n",
        "\n",
        "# plotting the bar graph\n",
        "averages.plot(kind= 'bar', color='#A81502')\n",
        "plt.ylabel(\"Average number of cars\")\n",
        "plt.title(\"Mean number of cars taken per day\")\n",
        "\n",
        "# bluecars seem to be way more popular among customers that the other electric cars."
      ],
      "execution_count": 15,
      "outputs": [
        {
          "output_type": "execute_result",
          "data": {
            "text/plain": [
              "Text(0.5, 1.0, 'Mean number of cars taken per day')"
            ]
          },
          "metadata": {},
          "execution_count": 15
        },
        {
          "output_type": "display_data",
          "data": {
            "image/png": "[encoded data removed]",
            "text/plain": [
              "<Figure size 576x432 with 1 Axes>"
            ]
          },
          "metadata": {
            "needs_background": "light"
          }
        }
      ]
    },
    {
      "cell_type": "code",
      "metadata": {
        "colab": {
          "base_uri": "https://localhost:8080/",
          "height": 450
        },
        "id": "cy8BChBW4lqN",
        "outputId": "305dacd0-e47d-4652-af35-f70be25410ad"
      },
      "source": [
        "# finding the modal postal code for blue cars, i.e, the postal code with the highest number of bluecars having been borrowed.\n",
        "modal_code = Autolib.iloc[:,0:8:2]\n",
        "mode_code = modal_code.groupby(by='Postal code').sum().sort_values(by='BlueCars_returned_sum', ascending= False)\n",
        "pcm = pd.DataFrame(mode_code) # -----pcm for postal code mode\n",
        "pcm\n",
        "\n",
        "# that postal code is 75015."
      ],
      "execution_count": 16,
      "outputs": [
        {
          "output_type": "execute_result",
          "data": {
            "text/html": [
              "<div>\n",
              "<style scoped>\n",
              "    .dataframe tbody tr th:only-of-type {\n",
              "        vertical-align: middle;\n",
              "    }\n",
              "\n",
              "    .dataframe tbody tr th {\n",
              "        vertical-align: top;\n",
              "    }\n",
              "\n",
              "    .dataframe thead th {\n",
              "        text-align: right;\n",
              "    }\n",
              "</style>\n",
              "<table border=\"1\" class=\"dataframe\">\n",
              "  <thead>\n",
              "    <tr style=\"text-align: right;\">\n",
              "      <th></th>\n",
              "      <th>n_daily_data_points</th>\n",
              "      <th>BlueCars_returned_sum</th>\n",
              "    </tr>\n",
              "    <tr>\n",
              "      <th>Postal code</th>\n",
              "      <th></th>\n",
              "      <th></th>\n",
              "    </tr>\n",
              "  </thead>\n",
              "  <tbody>\n",
              "    <tr>\n",
              "      <th>75015</th>\n",
              "      <td>223281</td>\n",
              "      <td>139943</td>\n",
              "    </tr>\n",
              "    <tr>\n",
              "      <th>75016</th>\n",
              "      <td>223281</td>\n",
              "      <td>123222</td>\n",
              "    </tr>\n",
              "    <tr>\n",
              "      <th>75017</th>\n",
              "      <td>223281</td>\n",
              "      <td>114541</td>\n",
              "    </tr>\n",
              "    <tr>\n",
              "      <th>75013</th>\n",
              "      <td>223281</td>\n",
              "      <td>84449</td>\n",
              "    </tr>\n",
              "    <tr>\n",
              "      <th>75019</th>\n",
              "      <td>223281</td>\n",
              "      <td>82023</td>\n",
              "    </tr>\n",
              "    <tr>\n",
              "      <th>...</th>\n",
              "      <td>...</td>\n",
              "      <td>...</td>\n",
              "    </tr>\n",
              "    <tr>\n",
              "      <th>93150</th>\n",
              "      <td>216155</td>\n",
              "      <td>789</td>\n",
              "    </tr>\n",
              "    <tr>\n",
              "      <th>94100</th>\n",
              "      <td>221911</td>\n",
              "      <td>746</td>\n",
              "    </tr>\n",
              "    <tr>\n",
              "      <th>93370</th>\n",
              "      <td>213334</td>\n",
              "      <td>556</td>\n",
              "    </tr>\n",
              "    <tr>\n",
              "      <th>93440</th>\n",
              "      <td>216130</td>\n",
              "      <td>526</td>\n",
              "    </tr>\n",
              "    <tr>\n",
              "      <th>93390</th>\n",
              "      <td>120431</td>\n",
              "      <td>302</td>\n",
              "    </tr>\n",
              "  </tbody>\n",
              "</table>\n",
              "<p>104 rows × 2 columns</p>\n",
              "</div>"
            ],
            "text/plain": [
              "             n_daily_data_points  BlueCars_returned_sum\n",
              "Postal code                                            \n",
              "75015                     223281                 139943\n",
              "75016                     223281                 123222\n",
              "75017                     223281                 114541\n",
              "75013                     223281                  84449\n",
              "75019                     223281                  82023\n",
              "...                          ...                    ...\n",
              "93150                     216155                    789\n",
              "94100                     221911                    746\n",
              "93370                     213334                    556\n",
              "93440                     216130                    526\n",
              "93390                     120431                    302\n",
              "\n",
              "[104 rows x 2 columns]"
            ]
          },
          "metadata": {},
          "execution_count": 16
        }
      ]
    },
    {
      "cell_type": "markdown",
      "metadata": {
        "id": "3QDsQIEf-Iyy"
      },
      "source": [
        "## Bivariate Analysis\n"
      ]
    },
    {
      "cell_type": "code",
      "metadata": {
        "colab": {
          "base_uri": "https://localhost:8080/",
          "height": 405
        },
        "id": "JIbrFAmN-Iiv",
        "outputId": "c4d1947a-d089-4a26-f955-a8865d47b350"
      },
      "source": [
        "# plotting the number of cars taken on each day of the week.\n",
        "days = Autolib.iloc[:,3:11:2]  # -------- picking from the dataset, the columns; dayOfWeek, BlueCars_taken_sum, Utilib_taken_sum and Utilib_14_taken_sum\n",
        "\n",
        "# grouping by the days of the week.\n",
        "# I prefer using the average as some days may have more entries than others.\n",
        "days_of_the_week = days.groupby(by='dayOfWeek').mean()\n",
        "\n",
        "# defining a function for plotting a stacked graph\n",
        "def plot_stacked(dataset, title):\n",
        " dataset.plot(kind='bar', stacked=True)\n",
        " plt.title(title)\n",
        " plt.ylabel('Car count')\n",
        " plt.show()\n",
        "\n",
        "# executing the function\n",
        "plot_stacked(days_of_the_week, \"Average number of cars taken in terms of day of the week.\") \n",
        "\n",
        "# five(Saturday) is the day with the highest average number of blue cars having been borrowed.\n",
        "# Sunday and Friday have the second and third highest average number of blue cars being borrowed.\n",
        "# Weekdays, other than Friday, don't seem to be very popular."
      ],
      "execution_count": 17,
      "outputs": [
        {
          "output_type": "display_data",
          "data": {
            "image/png": "[encoded data removed]",
            "text/plain": [
              "<Figure size 576x432 with 1 Axes>"
            ]
          },
          "metadata": {
            "needs_background": "light"
          }
        }
      ]
    },
    {
      "cell_type": "code",
      "metadata": {
        "colab": {
          "base_uri": "https://localhost:8080/",
          "height": 444
        },
        "id": "LjRzk29wB4v5",
        "outputId": "fdf9ae2c-4c0c-4a0f-c832-6dd3d0c044c7"
      },
      "source": [
        "# plotting the number of cars taken during different day types, that is, weekends and weekdays.\n",
        "\n",
        "day_type = Autolib.iloc[:,4:11]\n",
        "\n",
        "# grouping the data by day type\n",
        "dt = day_type.groupby(by='day_type').mean()\n",
        "\n",
        "# plotting my bar graph\n",
        "dt.plot(kind='bar')\n",
        "plt.title(\"Number of cars in terms of day type: weekday or weekend.\")\n",
        "plt.ylabel(\"Number of cars\")\n",
        "plt.show()\n",
        "\n",
        "# The average number of the electric cars being shared in higher during the weekends than the weekdays for all the electric cars."
      ],
      "execution_count": 18,
      "outputs": [
        {
          "output_type": "display_data",
          "data": {
            "image/png": "[encoded data removed]",
            "text/plain": [
              "<Figure size 576x432 with 1 Axes>"
            ]
          },
          "metadata": {
            "needs_background": "light"
          }
        }
      ]
    },
    {
      "cell_type": "code",
      "metadata": {
        "colab": {
          "base_uri": "https://localhost:8080/",
          "height": 392
        },
        "id": "oRguy7crC_bU",
        "outputId": "4d6990bd-01c8-4dfb-89f2-b641d2e96ae4"
      },
      "source": [
        "# plotting the total number of cars taken per month.\n",
        "\n",
        "# selecting the columns I am interested in.\n",
        "months = Autolib.iloc[:,1:11]\n",
        "\n",
        "# dropping the unnecessary columns.\n",
        "months = months.drop('n_daily_data_points', axis=1)\n",
        "months = months.drop('dayOfWeek', axis=1)\n",
        "\n",
        "# defining a function for plotting a line graph.\n",
        "def plot_linegraph(by,column1,column2,column3, title):\n",
        "\n",
        "  # setting the condition that if by is set to day, the day of the month will be extracted from the date column.\n",
        "  if by == 'day':\n",
        "   mwezi = pd.DatetimeIndex(months['date']).day\n",
        "  # and if by is set to month, the month is extracted from the date column.\n",
        "  elif by == 'month':\n",
        "   mwezi = pd.DatetimeIndex(months['date']).month\n",
        "\n",
        "  m = months.groupby(mwezi).mean()  # mwezi is the extracted day or month, depending on what is specified. The data is grouped by this set parameter.\n",
        "  x = m.index\n",
        "  # y,z and a are the car count columns I wish to plot\n",
        "  y = m[column1]\n",
        "  z = m[column2]\n",
        "  a = m[column3]\n",
        "  # plotting the three line graphs in one graph.\n",
        "  plt.plot(x,y,marker='o', label= f'{column1}')\n",
        "  plt.plot(x,z,marker='o', label= f'{column2}')\n",
        "  plt.plot(x,a,marker='o', label= f'{column3}')\n",
        "  # setting the title, legend and ylabel\n",
        "  plt.title(title)\n",
        "  plt.ylabel('Number of cars')\n",
        "  plt.legend()\n",
        "  plt.show()\n",
        "\n",
        "# executing the function. I specified by month and therefore the the graph will be plotted for the months.\n",
        "plot_linegraph(by='month',column1='BlueCars_taken_sum',column2='Utilib_taken_sum',column3='Utilib_14_taken_sum',title='Graph of cars taken across the months.')\n",
        "\n",
        "# The month with highest average of blue cars borrowed appears to be the month of January, followed closely by the month of March.\n",
        "# June has the lowest average."
      ],
      "execution_count": 19,
      "outputs": [
        {
          "output_type": "display_data",
          "data": {
            "image/png": "[encoded data removed]",
            "text/plain": [
              "<Figure size 576x432 with 1 Axes>"
            ]
          },
          "metadata": {
            "needs_background": "light"
          }
        }
      ]
    },
    {
      "cell_type": "code",
      "metadata": {
        "colab": {
          "base_uri": "https://localhost:8080/",
          "height": 392
        },
        "id": "UThSVAfaI_gv",
        "outputId": "5024f398-9646-4d80-c81e-cbed7cec4838"
      },
      "source": [
        "# plotting the graph of the cars by the day on the calender.\n",
        "# specifying by day, the output display the averages for the days of the month.\n",
        "plot_linegraph(by='day',column1='BlueCars_returned_sum',column2='Utilib_returned_sum',column3='Utilib_14_returned_sum',title='Graph of returned cars in terms of day.')\n",
        "\n",
        "# The day with the highest average appears to be the 3rd and the lowest the 31st."
      ],
      "execution_count": 20,
      "outputs": [
        {
          "output_type": "display_data",
          "data": {
            "image/png": "[encoded data removed]",
            "text/plain": [
              "<Figure size 576x432 with 1 Axes>"
            ]
          },
          "metadata": {
            "needs_background": "light"
          }
        }
      ]
    },
    {
      "cell_type": "code",
      "metadata": {
        "colab": {
          "base_uri": "https://localhost:8080/",
          "height": 391
        },
        "id": "lnbIVdyIZxhr",
        "outputId": "14b66ecb-ad5f-4b5d-c778-a096857e45e0"
      },
      "source": [
        "# plotting the number of bluecars returned in terms of postal code\n",
        "# even though postal code is a dicrete variable, I will use a scatter plot nonetheless as plotting using bar and line, proved to be difficult considering the column has\n",
        "# 104 discrete values.\n",
        "\n",
        "# selecting the columns I need. That is, the postal code column and the bluecars borrowed.\n",
        "blue_postal = Autolib.iloc[:,0:6:5]\n",
        "\n",
        "# grouping by postal code and aggregating by bluecars_taken_sum\n",
        "blue_code = blue_postal.groupby(by='Postal code')['BlueCars_taken_sum'].sum()\n",
        "\n",
        "# creating a dataframe from the grouped and aggregated data.\n",
        "blue_code = pd.DataFrame(blue_code)\n",
        "\n",
        "# plotting a scatter plot.\n",
        "x = blue_code.index \n",
        "y = blue_code['BlueCars_taken_sum']\n",
        "sns.regplot(x=y,y=x, scatter= True)\n",
        "\n",
        "plt.savefig('pcVsbc.png')\n",
        "\n",
        "# from observing the scatter plot below, I am able to come to the foollowing conclusion:\n",
        "#  1. The areas with postal codes between 75000 and 80000, have a higher variation of borrowed cars, meaning a larger variation in customer interactions in comparison\n",
        "#     to the areas with postal codes between 90000 t0 95000\n"
      ],
      "execution_count": 21,
      "outputs": [
        {
          "output_type": "display_data",
          "data": {
            "image/png": "[encoded data removed]",
            "text/plain": [
              "<Figure size 576x432 with 1 Axes>"
            ]
          },
          "metadata": {
            "needs_background": "light"
          }
        }
      ]
    },
    {
      "cell_type": "markdown",
      "metadata": {
        "id": "-IkXI61rDGuW"
      },
      "source": [
        "## Hypothesis testing"
      ]
    },
    {
      "cell_type": "code",
      "metadata": {
        "colab": {
          "base_uri": "https://localhost:8080/"
        },
        "id": "f_oKaQSmQoA7",
        "outputId": "3176cb8c-a3b9-4344-a2d8-9e8abe2d2342"
      },
      "source": [
        "# my null hypothesis states that there is no significant different in numbers between the blue car consumers in Paris and blue cars consumers in Hauts-de-Seine\n",
        "# my alternative hypothesis states that blue car consumers are higher in numbers in Paris than in Hauts-de-Seine.\n",
        "\n",
        "blue_code  # ------- contains data columns postal code and BlueCars_taken_sum\n",
        "df = blue_code.reset_index() # ------the index is no longer postal code\n",
        "df['Postal code']= df['Postal code'].astype(str) # ------------ converting my column from an integer data type to a string data type.\n",
        "paris = df['Postal code'].str.startswith('75')\n",
        "Hauts = df['Postal code'].str.startswith('92')\n",
        "dataset = df[(paris)| (Hauts)] # ------ creating a dataset with postal codes for Paris and Hauts-de-Seine\n",
        "dataset.shape[0]\n",
        "\n",
        "# the dataset has 58 data points"
      ],
      "execution_count": 22,
      "outputs": [
        {
          "output_type": "execute_result",
          "data": {
            "text/plain": [
              "58"
            ]
          },
          "metadata": {},
          "execution_count": 22
        }
      ]
    },
    {
      "cell_type": "code",
      "metadata": {
        "colab": {
          "base_uri": "https://localhost:8080/",
          "height": 445
        },
        "id": "j33Vqhgeub7m",
        "outputId": "ebfe7225-57b1-4d04-8e5e-52d681e5dac6"
      },
      "source": [
        "# testing the normality of my dataset.\n",
        "# Importing libraries to plot our Q-Q plot\n",
        "from statsmodels.graphics.gofplots import qqplot\n",
        "from matplotlib import pyplot\n",
        "\n",
        "\n",
        "# q-q plot\n",
        "qqplot(dataset['BlueCars_taken_sum'], line='s')\n",
        "pyplot.show()\n",
        "\n",
        "# from the qq-plot below, the sample distribution does not appear to resemble a normal distribution.\n",
        "# for further confirmation, I used another normality test, the Shapiro-Wilk test "
      ],
      "execution_count": 23,
      "outputs": [
        {
          "output_type": "stream",
          "name": "stderr",
          "text": [
            "/usr/local/lib/python3.7/dist-packages/statsmodels/tools/_testing.py:19: FutureWarning: pandas.util.testing is deprecated. Use the functions in the public API at pandas.testing instead.\n",
            "  import pandas.util.testing as tm\n"
          ]
        },
        {
          "output_type": "display_data",
          "data": {
            "image/png": "[encoded data removed]",
            "text/plain": [
              "<Figure size 576x432 with 1 Axes>"
            ]
          },
          "metadata": {
            "needs_background": "light"
          }
        }
      ]
    },
    {
      "cell_type": "code",
      "metadata": {
        "colab": {
          "base_uri": "https://localhost:8080/"
        },
        "id": "le9SiLHlvUyO",
        "outputId": "02058840-c4a1-4c15-d84b-171dceaeb6b8"
      },
      "source": [
        "# imporing the shapiro function\n",
        "from scipy.stats import shapiro \n",
        "\n",
        "\n",
        "statistic, pval = shapiro(dataset['BlueCars_taken_sum'])\n",
        "print('Statistics=%.3f, p=%.3f' % (statistic, pval))\n",
        "\n",
        "# interpreting\n",
        "alpha = 0.05\n",
        "if pval > alpha:\n",
        "\tprint('Sample looks Gaussian')\n",
        "else:\n",
        "\tprint('Sample does not look Gaussian')\n",
        " \n",
        "\n",
        "# my sample is confirmed to not resemble a normal distribution. Upon testing the entire Autolib dataset using the qq-plot, it is evident the blue cars taken column\n",
        "# is not similar to a normal distribution."
      ],
      "execution_count": 24,
      "outputs": [
        {
          "output_type": "stream",
          "name": "stdout",
          "text": [
            "Statistics=0.812, p=0.000\n",
            "Sample does not look Gaussian\n"
          ]
        }
      ]
    },
    {
      "cell_type": "code",
      "metadata": {
        "id": "qMw1IplpDLcC",
        "colab": {
          "base_uri": "https://localhost:8080/",
          "height": 1000
        },
        "outputId": "6073eb8c-8642-496d-9cb4-2e80683d9cef"
      },
      "source": [
        "# I needed to decide on the sampling method I will use to obtain my sample.\n",
        "# Upon calculation.....I have decided on a sample size of 51.\n",
        "# my population size is 58. I decided to use stratified sampling to get a similar ratio for Paris and Hauts-de-Seine to the ratio in the dataset.\n",
        "\n",
        "Paris = dataset[paris]\n",
        "hauts = dataset[Hauts]\n",
        "Paris['Department'] = 'Paris'\n",
        "hauts['Department'] = 'Hauts'\n",
        "\n",
        "# merging the two dataset\n",
        "\n",
        "ds = pd.concat([Paris,hauts], axis=0)\n",
        "sample = ds.groupby(by='Department', group_keys=False).apply(lambda y: y.sample(frac=0.87931034482758620689655172413793))\n",
        "sample"
      ],
      "execution_count": 25,
      "outputs": [
        {
          "output_type": "stream",
          "name": "stderr",
          "text": [
            "/usr/local/lib/python3.7/dist-packages/ipykernel_launcher.py:5: UserWarning: Boolean Series key will be reindexed to match DataFrame index.\n",
            "  \"\"\"\n",
            "/usr/local/lib/python3.7/dist-packages/ipykernel_launcher.py:6: UserWarning: Boolean Series key will be reindexed to match DataFrame index.\n",
            "  \n",
            "/usr/local/lib/python3.7/dist-packages/ipykernel_launcher.py:7: SettingWithCopyWarning: \n",
            "A value is trying to be set on a copy of a slice from a DataFrame.\n",
            "Try using .loc[row_indexer,col_indexer] = value instead\n",
            "\n",
            "See the caveats in the documentation: https://pandas.pydata.org/pandas-docs/stable/user_guide/indexing.html#returning-a-view-versus-a-copy\n",
            "  import sys\n",
            "/usr/local/lib/python3.7/dist-packages/ipykernel_launcher.py:8: SettingWithCopyWarning: \n",
            "A value is trying to be set on a copy of a slice from a DataFrame.\n",
            "Try using .loc[row_indexer,col_indexer] = value instead\n",
            "\n",
            "See the caveats in the documentation: https://pandas.pydata.org/pandas-docs/stable/user_guide/indexing.html#returning-a-view-versus-a-copy\n",
            "  \n"
          ]
        },
        {
          "output_type": "execute_result",
          "data": {
            "text/html": [
              "<div>\n",
              "<style scoped>\n",
              "    .dataframe tbody tr th:only-of-type {\n",
              "        vertical-align: middle;\n",
              "    }\n",
              "\n",
              "    .dataframe tbody tr th {\n",
              "        vertical-align: top;\n",
              "    }\n",
              "\n",
              "    .dataframe thead th {\n",
              "        text-align: right;\n",
              "    }\n",
              "</style>\n",
              "<table border=\"1\" class=\"dataframe\">\n",
              "  <thead>\n",
              "    <tr style=\"text-align: right;\">\n",
              "      <th></th>\n",
              "      <th>Postal code</th>\n",
              "      <th>BlueCars_taken_sum</th>\n",
              "      <th>Department</th>\n",
              "    </tr>\n",
              "  </thead>\n",
              "  <tbody>\n",
              "    <tr>\n",
              "      <th>50</th>\n",
              "      <td>92330</td>\n",
              "      <td>5818</td>\n",
              "      <td>Hauts</td>\n",
              "    </tr>\n",
              "    <tr>\n",
              "      <th>42</th>\n",
              "      <td>92240</td>\n",
              "      <td>14353</td>\n",
              "      <td>Hauts</td>\n",
              "    </tr>\n",
              "    <tr>\n",
              "      <th>37</th>\n",
              "      <td>92190</td>\n",
              "      <td>10170</td>\n",
              "      <td>Hauts</td>\n",
              "    </tr>\n",
              "    <tr>\n",
              "      <th>40</th>\n",
              "      <td>92220</td>\n",
              "      <td>9026</td>\n",
              "      <td>Hauts</td>\n",
              "    </tr>\n",
              "    <tr>\n",
              "      <th>34</th>\n",
              "      <td>92150</td>\n",
              "      <td>24158</td>\n",
              "      <td>Hauts</td>\n",
              "    </tr>\n",
              "    <tr>\n",
              "      <th>51</th>\n",
              "      <td>92340</td>\n",
              "      <td>1845</td>\n",
              "      <td>Hauts</td>\n",
              "    </tr>\n",
              "    <tr>\n",
              "      <th>30</th>\n",
              "      <td>92110</td>\n",
              "      <td>3610</td>\n",
              "      <td>Hauts</td>\n",
              "    </tr>\n",
              "    <tr>\n",
              "      <th>32</th>\n",
              "      <td>92130</td>\n",
              "      <td>41364</td>\n",
              "      <td>Hauts</td>\n",
              "    </tr>\n",
              "    <tr>\n",
              "      <th>44</th>\n",
              "      <td>92260</td>\n",
              "      <td>4925</td>\n",
              "      <td>Hauts</td>\n",
              "    </tr>\n",
              "    <tr>\n",
              "      <th>46</th>\n",
              "      <td>92290</td>\n",
              "      <td>2147</td>\n",
              "      <td>Hauts</td>\n",
              "    </tr>\n",
              "    <tr>\n",
              "      <th>62</th>\n",
              "      <td>92700</td>\n",
              "      <td>17796</td>\n",
              "      <td>Hauts</td>\n",
              "    </tr>\n",
              "    <tr>\n",
              "      <th>28</th>\n",
              "      <td>92000</td>\n",
              "      <td>25822</td>\n",
              "      <td>Hauts</td>\n",
              "    </tr>\n",
              "    <tr>\n",
              "      <th>29</th>\n",
              "      <td>92100</td>\n",
              "      <td>56110</td>\n",
              "      <td>Hauts</td>\n",
              "    </tr>\n",
              "    <tr>\n",
              "      <th>33</th>\n",
              "      <td>92140</td>\n",
              "      <td>13111</td>\n",
              "      <td>Hauts</td>\n",
              "    </tr>\n",
              "    <tr>\n",
              "      <th>63</th>\n",
              "      <td>92800</td>\n",
              "      <td>14152</td>\n",
              "      <td>Hauts</td>\n",
              "    </tr>\n",
              "    <tr>\n",
              "      <th>41</th>\n",
              "      <td>92230</td>\n",
              "      <td>8322</td>\n",
              "      <td>Hauts</td>\n",
              "    </tr>\n",
              "    <tr>\n",
              "      <th>57</th>\n",
              "      <td>92400</td>\n",
              "      <td>16315</td>\n",
              "      <td>Hauts</td>\n",
              "    </tr>\n",
              "    <tr>\n",
              "      <th>60</th>\n",
              "      <td>92500</td>\n",
              "      <td>21288</td>\n",
              "      <td>Hauts</td>\n",
              "    </tr>\n",
              "    <tr>\n",
              "      <th>61</th>\n",
              "      <td>92600</td>\n",
              "      <td>26096</td>\n",
              "      <td>Hauts</td>\n",
              "    </tr>\n",
              "    <tr>\n",
              "      <th>53</th>\n",
              "      <td>92360</td>\n",
              "      <td>1303</td>\n",
              "      <td>Hauts</td>\n",
              "    </tr>\n",
              "    <tr>\n",
              "      <th>54</th>\n",
              "      <td>92370</td>\n",
              "      <td>4467</td>\n",
              "      <td>Hauts</td>\n",
              "    </tr>\n",
              "    <tr>\n",
              "      <th>43</th>\n",
              "      <td>92250</td>\n",
              "      <td>10019</td>\n",
              "      <td>Hauts</td>\n",
              "    </tr>\n",
              "    <tr>\n",
              "      <th>36</th>\n",
              "      <td>92170</td>\n",
              "      <td>9288</td>\n",
              "      <td>Hauts</td>\n",
              "    </tr>\n",
              "    <tr>\n",
              "      <th>59</th>\n",
              "      <td>92420</td>\n",
              "      <td>1740</td>\n",
              "      <td>Hauts</td>\n",
              "    </tr>\n",
              "    <tr>\n",
              "      <th>49</th>\n",
              "      <td>92320</td>\n",
              "      <td>9605</td>\n",
              "      <td>Hauts</td>\n",
              "    </tr>\n",
              "    <tr>\n",
              "      <th>56</th>\n",
              "      <td>92390</td>\n",
              "      <td>1886</td>\n",
              "      <td>Hauts</td>\n",
              "    </tr>\n",
              "    <tr>\n",
              "      <th>55</th>\n",
              "      <td>92380</td>\n",
              "      <td>3680</td>\n",
              "      <td>Hauts</td>\n",
              "    </tr>\n",
              "    <tr>\n",
              "      <th>52</th>\n",
              "      <td>92350</td>\n",
              "      <td>3757</td>\n",
              "      <td>Hauts</td>\n",
              "    </tr>\n",
              "    <tr>\n",
              "      <th>39</th>\n",
              "      <td>92210</td>\n",
              "      <td>13461</td>\n",
              "      <td>Hauts</td>\n",
              "    </tr>\n",
              "    <tr>\n",
              "      <th>38</th>\n",
              "      <td>92200</td>\n",
              "      <td>8602</td>\n",
              "      <td>Hauts</td>\n",
              "    </tr>\n",
              "    <tr>\n",
              "      <th>35</th>\n",
              "      <td>92160</td>\n",
              "      <td>4557</td>\n",
              "      <td>Hauts</td>\n",
              "    </tr>\n",
              "    <tr>\n",
              "      <th>45</th>\n",
              "      <td>92270</td>\n",
              "      <td>4266</td>\n",
              "      <td>Hauts</td>\n",
              "    </tr>\n",
              "    <tr>\n",
              "      <th>0</th>\n",
              "      <td>75001</td>\n",
              "      <td>20995</td>\n",
              "      <td>Paris</td>\n",
              "    </tr>\n",
              "    <tr>\n",
              "      <th>6</th>\n",
              "      <td>75007</td>\n",
              "      <td>45285</td>\n",
              "      <td>Paris</td>\n",
              "    </tr>\n",
              "    <tr>\n",
              "      <th>10</th>\n",
              "      <td>75011</td>\n",
              "      <td>74939</td>\n",
              "      <td>Paris</td>\n",
              "    </tr>\n",
              "    <tr>\n",
              "      <th>8</th>\n",
              "      <td>75009</td>\n",
              "      <td>52903</td>\n",
              "      <td>Paris</td>\n",
              "    </tr>\n",
              "    <tr>\n",
              "      <th>11</th>\n",
              "      <td>75012</td>\n",
              "      <td>77572</td>\n",
              "      <td>Paris</td>\n",
              "    </tr>\n",
              "    <tr>\n",
              "      <th>15</th>\n",
              "      <td>75016</td>\n",
              "      <td>123287</td>\n",
              "      <td>Paris</td>\n",
              "    </tr>\n",
              "    <tr>\n",
              "      <th>2</th>\n",
              "      <td>75003</td>\n",
              "      <td>37188</td>\n",
              "      <td>Paris</td>\n",
              "    </tr>\n",
              "    <tr>\n",
              "      <th>21</th>\n",
              "      <td>75116</td>\n",
              "      <td>1674</td>\n",
              "      <td>Paris</td>\n",
              "    </tr>\n",
              "    <tr>\n",
              "      <th>4</th>\n",
              "      <td>75005</td>\n",
              "      <td>47766</td>\n",
              "      <td>Paris</td>\n",
              "    </tr>\n",
              "    <tr>\n",
              "      <th>7</th>\n",
              "      <td>75008</td>\n",
              "      <td>68247</td>\n",
              "      <td>Paris</td>\n",
              "    </tr>\n",
              "    <tr>\n",
              "      <th>9</th>\n",
              "      <td>75010</td>\n",
              "      <td>49421</td>\n",
              "      <td>Paris</td>\n",
              "    </tr>\n",
              "    <tr>\n",
              "      <th>14</th>\n",
              "      <td>75015</td>\n",
              "      <td>139925</td>\n",
              "      <td>Paris</td>\n",
              "    </tr>\n",
              "    <tr>\n",
              "      <th>17</th>\n",
              "      <td>75018</td>\n",
              "      <td>66323</td>\n",
              "      <td>Paris</td>\n",
              "    </tr>\n",
              "    <tr>\n",
              "      <th>1</th>\n",
              "      <td>75002</td>\n",
              "      <td>27143</td>\n",
              "      <td>Paris</td>\n",
              "    </tr>\n",
              "    <tr>\n",
              "      <th>5</th>\n",
              "      <td>75006</td>\n",
              "      <td>41514</td>\n",
              "      <td>Paris</td>\n",
              "    </tr>\n",
              "    <tr>\n",
              "      <th>16</th>\n",
              "      <td>75017</td>\n",
              "      <td>114581</td>\n",
              "      <td>Paris</td>\n",
              "    </tr>\n",
              "    <tr>\n",
              "      <th>13</th>\n",
              "      <td>75014</td>\n",
              "      <td>75862</td>\n",
              "      <td>Paris</td>\n",
              "    </tr>\n",
              "    <tr>\n",
              "      <th>3</th>\n",
              "      <td>75004</td>\n",
              "      <td>31454</td>\n",
              "      <td>Paris</td>\n",
              "    </tr>\n",
              "    <tr>\n",
              "      <th>12</th>\n",
              "      <td>75013</td>\n",
              "      <td>84489</td>\n",
              "      <td>Paris</td>\n",
              "    </tr>\n",
              "  </tbody>\n",
              "</table>\n",
              "</div>"
            ],
            "text/plain": [
              "   Postal code  BlueCars_taken_sum Department\n",
              "50       92330                5818      Hauts\n",
              "42       92240               14353      Hauts\n",
              "37       92190               10170      Hauts\n",
              "40       92220                9026      Hauts\n",
              "34       92150               24158      Hauts\n",
              "51       92340                1845      Hauts\n",
              "30       92110                3610      Hauts\n",
              "32       92130               41364      Hauts\n",
              "44       92260                4925      Hauts\n",
              "46       92290                2147      Hauts\n",
              "62       92700               17796      Hauts\n",
              "28       92000               25822      Hauts\n",
              "29       92100               56110      Hauts\n",
              "33       92140               13111      Hauts\n",
              "63       92800               14152      Hauts\n",
              "41       92230                8322      Hauts\n",
              "57       92400               16315      Hauts\n",
              "60       92500               21288      Hauts\n",
              "61       92600               26096      Hauts\n",
              "53       92360                1303      Hauts\n",
              "54       92370                4467      Hauts\n",
              "43       92250               10019      Hauts\n",
              "36       92170                9288      Hauts\n",
              "59       92420                1740      Hauts\n",
              "49       92320                9605      Hauts\n",
              "56       92390                1886      Hauts\n",
              "55       92380                3680      Hauts\n",
              "52       92350                3757      Hauts\n",
              "39       92210               13461      Hauts\n",
              "38       92200                8602      Hauts\n",
              "35       92160                4557      Hauts\n",
              "45       92270                4266      Hauts\n",
              "0        75001               20995      Paris\n",
              "6        75007               45285      Paris\n",
              "10       75011               74939      Paris\n",
              "8        75009               52903      Paris\n",
              "11       75012               77572      Paris\n",
              "15       75016              123287      Paris\n",
              "2        75003               37188      Paris\n",
              "21       75116                1674      Paris\n",
              "4        75005               47766      Paris\n",
              "7        75008               68247      Paris\n",
              "9        75010               49421      Paris\n",
              "14       75015              139925      Paris\n",
              "17       75018               66323      Paris\n",
              "1        75002               27143      Paris\n",
              "5        75006               41514      Paris\n",
              "16       75017              114581      Paris\n",
              "13       75014               75862      Paris\n",
              "3        75004               31454      Paris\n",
              "12       75013               84489      Paris"
            ]
          },
          "metadata": {},
          "execution_count": 25
        }
      ]
    },
    {
      "cell_type": "code",
      "metadata": {
        "id": "u2uXJb14kSD7"
      },
      "source": [
        "p =sample[sample['Department'] == 'Paris']\n",
        "h =sample[sample['Department'] == 'Hauts']\n",
        "# obtaining the two series for number of blue cars taken \n",
        "haut_blue = h['BlueCars_taken_sum']\n",
        "pari_blue = p['BlueCars_taken_sum']"
      ],
      "execution_count": 26,
      "outputs": []
    },
    {
      "cell_type": "code",
      "metadata": {
        "colab": {
          "base_uri": "https://localhost:8080/"
        },
        "id": "uZgxAHyCnKo4",
        "outputId": "2fb26791-cf36-4f49-a1e7-eda0a9e36208"
      },
      "source": [
        "# the significance level that I will use is 0.05.\n",
        "# my confidence level is 0.95 and it's corresponding critical value is 1.96.\n",
        "# my test is a right tailed test as the alternative hypothesis states that Paris blue car consumers are greater than Hauts-de-Seins blue car consumers.\n",
        "# Therefore in the alternative parameter, we will specify larger, as per my claim that there is a difference and hence it is larger than 0. \n",
        "\n",
        "from statsmodels.stats import weightstats as stests\n",
        "\n",
        "zscore ,pval = stests.ztest(pari_blue, haut_blue, value=0,alternative='larger')\n",
        "print(float(pval))\n",
        "print('\\n')\n",
        "print(zscore)\n",
        "if pval<0.05:\n",
        "    print(\"reject null hypothesis\")\n",
        "else:\n",
        "    print(\"accept null hypothesis\")\n",
        "\n",
        "# the zscore is larger than the critical value and hence out of bounds of the 95% confidence level.\n",
        "# from the zscore and pvalue , I can reject the null hypothesis in favour of my alternative hypothesis."
      ],
      "execution_count": 27,
      "outputs": [
        {
          "output_type": "stream",
          "name": "stdout",
          "text": [
            "1.8996472089089764e-13\n",
            "\n",
            "\n",
            "7.262525293357504\n",
            "reject null hypothesis\n"
          ]
        }
      ]
    }
  ]
}