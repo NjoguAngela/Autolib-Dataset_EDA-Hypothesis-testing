{
  "nbformat": 4,
  "nbformat_minor": 0,
  "metadata": {
    "colab": {
      "name": "Autolib_dataset_EDA_Angela_Njogu_IP_wk4.ipynb",
      "provenance": [],
      "collapsed_sections": [
        "c0fBVIhhmEIA",
        "MElOAJCLoO25",
        "5fzlL1lypPQn",
        "zMasNABRqSE2",
        "e4f_4k8CmPeb"
      ]
    },
    "kernelspec": {
      "name": "python3",
      "display_name": "Python 3"
    },
    "language_info": {
      "name": "python"
    }
  },
  "cells": [
    {
      "cell_type": "markdown",
      "metadata": {
        "id": "OY71ez7-lqlg"
      },
      "source": [
        "# Autolib dataset EDA and hyothesis testing"
      ]
    },
    {
      "cell_type": "markdown",
      "metadata": {
        "id": "hyHzeVKhlpaQ"
      },
      "source": [
        "## Objectives of the analysis"
      ]
    },
    {
      "cell_type": "markdown",
      "metadata": {
        "id": "goCcMklll-UE"
      },
      "source": [
        "The objectives of this analysis are:\n",
        "1. to make observations about number of cars taken from an autolib station and  how that relates to differences in location and days of the week.\n",
        "2. to test my hypothesis and come to an appropriate decision."
      ]
    },
    {
      "cell_type": "markdown",
      "metadata": {
        "id": "lPfstUM0l-6k"
      },
      "source": [
        "## Metrics of success"
      ]
    },
    {
      "cell_type": "markdown",
      "metadata": {
        "id": "FQBK4MVHmDqI"
      },
      "source": [
        "To consider this analysis successful, I should have been able come to a decision to either reject or fail to reject my null hypothesis and have been able to make appropriate inferences in regards to my findings."
      ]
    },
    {
      "cell_type": "markdown",
      "metadata": {
        "id": "c0fBVIhhmEIA"
      },
      "source": [
        "## Importing the necessary libraries"
      ]
    },
    {
      "cell_type": "code",
      "metadata": {
        "id": "KIl3dzQll6se"
      },
      "source": [
        "import numpy as np\n",
        "import pandas as pd\n",
        "from scipy import stats\n",
        "import matplotlib.pyplot as plt\n",
        "import seaborn as sns"
      ],
      "execution_count": 1,
      "outputs": []
    },
    {
      "cell_type": "code",
      "metadata": {
        "id": "QeJ-Of89egfg"
      },
      "source": [
        "# setting standard parameters for my visualizations by matplotlib\n",
        "plt.rcParams['figure.figsize'] = (8,6)\n",
        "plt.rcParams['axes.titlesize'] = 16\n",
        "plt.rcParams['axes.titleweight'] = 700\n",
        "plt.rcParams['axes.labelsize'] = 12"
      ],
      "execution_count": 2,
      "outputs": []
    },
    {
      "cell_type": "markdown",
      "metadata": {
        "id": "MElOAJCLoO25"
      },
      "source": [
        "## Loading our data"
      ]
    },
    {
      "cell_type": "code",
      "metadata": {
        "id": "HdwZsIl4ocoH"
      },
      "source": [
        "Autolib = pd.read_csv('http://bit.ly/DSCoreAutolibDataset')\n"
      ],
      "execution_count": 3,
      "outputs": []
    },
    {
      "cell_type": "markdown",
      "metadata": {
        "id": "5fzlL1lypPQn"
      },
      "source": [
        "## Checking our data"
      ]
    },
    {
      "cell_type": "code",
      "metadata": {
        "colab": {
          "base_uri": "https://localhost:8080/"
        },
        "id": "oHlh1RovpkNd",
        "outputId": "baa2c78a-a6d6-4d83-97eb-fe543342b0b6"
      },
      "source": [
        "# checking the shape of our data\n",
        "print('Our dataset has', Autolib.shape[0],'rows and', Autolib.shape[1],'columns.')"
      ],
      "execution_count": 4,
      "outputs": [
        {
          "output_type": "stream",
          "name": "stdout",
          "text": [
            "Our dataset has 16085 rows and 13 columns.\n"
          ]
        }
      ]
    },
    {
      "cell_type": "code",
      "metadata": {
        "colab": {
          "base_uri": "https://localhost:8080/",
          "height": 0
        },
        "id": "PKJ9_BIZpSe2",
        "outputId": "6d2e94cd-5573-4926-f24e-04fb7a0bbc94"
      },
      "source": [
        "# checking the head of our data\n",
        "Autolib.head()"
      ],
      "execution_count": 5,
      "outputs": [
        {
          "output_type": "execute_result",
          "data": {
            "text/html": [
              "<div>\n",
              "<style scoped>\n",
              "    .dataframe tbody tr th:only-of-type {\n",
              "        vertical-align: middle;\n",
              "    }\n",
              "\n",
              "    .dataframe tbody tr th {\n",
              "        vertical-align: top;\n",
              "    }\n",
              "\n",
              "    .dataframe thead th {\n",
              "        text-align: right;\n",
              "    }\n",
              "</style>\n",
              "<table border=\"1\" class=\"dataframe\">\n",
              "  <thead>\n",
              "    <tr style=\"text-align: right;\">\n",
              "      <th></th>\n",
              "      <th>Postal code</th>\n",
              "      <th>date</th>\n",
              "      <th>n_daily_data_points</th>\n",
              "      <th>dayOfWeek</th>\n",
              "      <th>day_type</th>\n",
              "      <th>BlueCars_taken_sum</th>\n",
              "      <th>BlueCars_returned_sum</th>\n",
              "      <th>Utilib_taken_sum</th>\n",
              "      <th>Utilib_returned_sum</th>\n",
              "      <th>Utilib_14_taken_sum</th>\n",
              "      <th>Utilib_14_returned_sum</th>\n",
              "      <th>Slots_freed_sum</th>\n",
              "      <th>Slots_taken_sum</th>\n",
              "    </tr>\n",
              "  </thead>\n",
              "  <tbody>\n",
              "    <tr>\n",
              "      <th>0</th>\n",
              "      <td>75001</td>\n",
              "      <td>1/1/2018</td>\n",
              "      <td>1440</td>\n",
              "      <td>0</td>\n",
              "      <td>weekday</td>\n",
              "      <td>110</td>\n",
              "      <td>103</td>\n",
              "      <td>3</td>\n",
              "      <td>2</td>\n",
              "      <td>10</td>\n",
              "      <td>9</td>\n",
              "      <td>22</td>\n",
              "      <td>20</td>\n",
              "    </tr>\n",
              "    <tr>\n",
              "      <th>1</th>\n",
              "      <td>75001</td>\n",
              "      <td>1/2/2018</td>\n",
              "      <td>1438</td>\n",
              "      <td>1</td>\n",
              "      <td>weekday</td>\n",
              "      <td>98</td>\n",
              "      <td>94</td>\n",
              "      <td>1</td>\n",
              "      <td>1</td>\n",
              "      <td>8</td>\n",
              "      <td>8</td>\n",
              "      <td>23</td>\n",
              "      <td>22</td>\n",
              "    </tr>\n",
              "    <tr>\n",
              "      <th>2</th>\n",
              "      <td>75001</td>\n",
              "      <td>1/3/2018</td>\n",
              "      <td>1439</td>\n",
              "      <td>2</td>\n",
              "      <td>weekday</td>\n",
              "      <td>138</td>\n",
              "      <td>139</td>\n",
              "      <td>0</td>\n",
              "      <td>0</td>\n",
              "      <td>2</td>\n",
              "      <td>2</td>\n",
              "      <td>27</td>\n",
              "      <td>27</td>\n",
              "    </tr>\n",
              "    <tr>\n",
              "      <th>3</th>\n",
              "      <td>75001</td>\n",
              "      <td>1/4/2018</td>\n",
              "      <td>1320</td>\n",
              "      <td>3</td>\n",
              "      <td>weekday</td>\n",
              "      <td>104</td>\n",
              "      <td>104</td>\n",
              "      <td>2</td>\n",
              "      <td>2</td>\n",
              "      <td>9</td>\n",
              "      <td>8</td>\n",
              "      <td>25</td>\n",
              "      <td>21</td>\n",
              "    </tr>\n",
              "    <tr>\n",
              "      <th>4</th>\n",
              "      <td>75001</td>\n",
              "      <td>1/5/2018</td>\n",
              "      <td>1440</td>\n",
              "      <td>4</td>\n",
              "      <td>weekday</td>\n",
              "      <td>114</td>\n",
              "      <td>117</td>\n",
              "      <td>3</td>\n",
              "      <td>3</td>\n",
              "      <td>6</td>\n",
              "      <td>6</td>\n",
              "      <td>18</td>\n",
              "      <td>20</td>\n",
              "    </tr>\n",
              "  </tbody>\n",
              "</table>\n",
              "</div>"
            ],
            "text/plain": [
              "   Postal code      date  ...  Slots_freed_sum  Slots_taken_sum\n",
              "0        75001  1/1/2018  ...               22               20\n",
              "1        75001  1/2/2018  ...               23               22\n",
              "2        75001  1/3/2018  ...               27               27\n",
              "3        75001  1/4/2018  ...               25               21\n",
              "4        75001  1/5/2018  ...               18               20\n",
              "\n",
              "[5 rows x 13 columns]"
            ]
          },
          "metadata": {},
          "execution_count": 5
        }
      ]
    },
    {
      "cell_type": "code",
      "metadata": {
        "colab": {
          "base_uri": "https://localhost:8080/",
          "height": 0
        },
        "id": "xm_rO5LApb3t",
        "outputId": "168d7b2d-171c-4e51-fc83-7a259beeaba3"
      },
      "source": [
        "# checking the tail end of our dataset\n",
        "Autolib.tail()"
      ],
      "execution_count": 6,
      "outputs": [
        {
          "output_type": "execute_result",
          "data": {
            "text/html": [
              "<div>\n",
              "<style scoped>\n",
              "    .dataframe tbody tr th:only-of-type {\n",
              "        vertical-align: middle;\n",
              "    }\n",
              "\n",
              "    .dataframe tbody tr th {\n",
              "        vertical-align: top;\n",
              "    }\n",
              "\n",
              "    .dataframe thead th {\n",
              "        text-align: right;\n",
              "    }\n",
              "</style>\n",
              "<table border=\"1\" class=\"dataframe\">\n",
              "  <thead>\n",
              "    <tr style=\"text-align: right;\">\n",
              "      <th></th>\n",
              "      <th>Postal code</th>\n",
              "      <th>date</th>\n",
              "      <th>n_daily_data_points</th>\n",
              "      <th>dayOfWeek</th>\n",
              "      <th>day_type</th>\n",
              "      <th>BlueCars_taken_sum</th>\n",
              "      <th>BlueCars_returned_sum</th>\n",
              "      <th>Utilib_taken_sum</th>\n",
              "      <th>Utilib_returned_sum</th>\n",
              "      <th>Utilib_14_taken_sum</th>\n",
              "      <th>Utilib_14_returned_sum</th>\n",
              "      <th>Slots_freed_sum</th>\n",
              "      <th>Slots_taken_sum</th>\n",
              "    </tr>\n",
              "  </thead>\n",
              "  <tbody>\n",
              "    <tr>\n",
              "      <th>16080</th>\n",
              "      <td>95880</td>\n",
              "      <td>6/15/2018</td>\n",
              "      <td>1440</td>\n",
              "      <td>4</td>\n",
              "      <td>weekday</td>\n",
              "      <td>15</td>\n",
              "      <td>10</td>\n",
              "      <td>0</td>\n",
              "      <td>0</td>\n",
              "      <td>2</td>\n",
              "      <td>3</td>\n",
              "      <td>0</td>\n",
              "      <td>0</td>\n",
              "    </tr>\n",
              "    <tr>\n",
              "      <th>16081</th>\n",
              "      <td>95880</td>\n",
              "      <td>6/16/2018</td>\n",
              "      <td>1440</td>\n",
              "      <td>5</td>\n",
              "      <td>weekend</td>\n",
              "      <td>19</td>\n",
              "      <td>19</td>\n",
              "      <td>0</td>\n",
              "      <td>0</td>\n",
              "      <td>2</td>\n",
              "      <td>1</td>\n",
              "      <td>0</td>\n",
              "      <td>0</td>\n",
              "    </tr>\n",
              "    <tr>\n",
              "      <th>16082</th>\n",
              "      <td>95880</td>\n",
              "      <td>6/17/2018</td>\n",
              "      <td>1440</td>\n",
              "      <td>6</td>\n",
              "      <td>weekend</td>\n",
              "      <td>33</td>\n",
              "      <td>35</td>\n",
              "      <td>1</td>\n",
              "      <td>1</td>\n",
              "      <td>0</td>\n",
              "      <td>0</td>\n",
              "      <td>0</td>\n",
              "      <td>0</td>\n",
              "    </tr>\n",
              "    <tr>\n",
              "      <th>16083</th>\n",
              "      <td>95880</td>\n",
              "      <td>6/18/2018</td>\n",
              "      <td>1440</td>\n",
              "      <td>0</td>\n",
              "      <td>weekday</td>\n",
              "      <td>11</td>\n",
              "      <td>14</td>\n",
              "      <td>3</td>\n",
              "      <td>5</td>\n",
              "      <td>2</td>\n",
              "      <td>2</td>\n",
              "      <td>0</td>\n",
              "      <td>0</td>\n",
              "    </tr>\n",
              "    <tr>\n",
              "      <th>16084</th>\n",
              "      <td>95880</td>\n",
              "      <td>6/19/2018</td>\n",
              "      <td>1370</td>\n",
              "      <td>1</td>\n",
              "      <td>weekday</td>\n",
              "      <td>2</td>\n",
              "      <td>2</td>\n",
              "      <td>2</td>\n",
              "      <td>1</td>\n",
              "      <td>0</td>\n",
              "      <td>0</td>\n",
              "      <td>0</td>\n",
              "      <td>0</td>\n",
              "    </tr>\n",
              "  </tbody>\n",
              "</table>\n",
              "</div>"
            ],
            "text/plain": [
              "       Postal code       date  ...  Slots_freed_sum  Slots_taken_sum\n",
              "16080        95880  6/15/2018  ...                0                0\n",
              "16081        95880  6/16/2018  ...                0                0\n",
              "16082        95880  6/17/2018  ...                0                0\n",
              "16083        95880  6/18/2018  ...                0                0\n",
              "16084        95880  6/19/2018  ...                0                0\n",
              "\n",
              "[5 rows x 13 columns]"
            ]
          },
          "metadata": {},
          "execution_count": 6
        }
      ]
    },
    {
      "cell_type": "code",
      "metadata": {
        "colab": {
          "base_uri": "https://localhost:8080/"
        },
        "id": "0yl7hJE-p_bM",
        "outputId": "801c3a8f-1f5f-4f73-966f-946f5fc2cb34"
      },
      "source": [
        "# checking the data types of our dataframe columns\n",
        "Autolib.dtypes"
      ],
      "execution_count": 7,
      "outputs": [
        {
          "output_type": "execute_result",
          "data": {
            "text/plain": [
              "Postal code                int64\n",
              "date                      object\n",
              "n_daily_data_points        int64\n",
              "dayOfWeek                  int64\n",
              "day_type                  object\n",
              "BlueCars_taken_sum         int64\n",
              "BlueCars_returned_sum      int64\n",
              "Utilib_taken_sum           int64\n",
              "Utilib_returned_sum        int64\n",
              "Utilib_14_taken_sum        int64\n",
              "Utilib_14_returned_sum     int64\n",
              "Slots_freed_sum            int64\n",
              "Slots_taken_sum            int64\n",
              "dtype: object"
            ]
          },
          "metadata": {},
          "execution_count": 7
        }
      ]
    },
    {
      "cell_type": "code",
      "metadata": {
        "colab": {
          "base_uri": "https://localhost:8080/"
        },
        "id": "v1-C3wzkWGV7",
        "outputId": "0619db52-6da8-4c10-8e58-39428d40b3ff"
      },
      "source": [
        "# checking the values for returned and taken in the numerical variables describing the different cars.\n",
        "# the columns for returned and taken, ideally should be equal, assuming the cars are taken and returned on the same day.\n",
        "continous_variables =Autolib.iloc[:,5:13]\n",
        "print(continous_variables.sum())\n",
        "\n",
        "# the difference between the returned and taken for the different electric cars is present but very small, relative to the colletive data points for each car.\n",
        "# as the difference is small during my analysis, I shall use the taken columns for the different cars, as plotting both would be\n",
        "# redundant due to their similarity. Another reason why I picked the taken columns was that, I am generally more interested in the car taken that day.\n",
        "\n",
        " \n"
      ],
      "execution_count": 8,
      "outputs": [
        {
          "output_type": "stream",
          "name": "stdout",
          "text": [
            "BlueCars_taken_sum        2025535\n",
            "BlueCars_returned_sum     2025306\n",
            "Utilib_taken_sum            59487\n",
            "Utilib_returned_sum         59500\n",
            "Utilib_14_taken_sum        138340\n",
            "Utilib_14_returned_sum     138318\n",
            "Slots_freed_sum            363988\n",
            "Slots_taken_sum            363992\n",
            "dtype: int64\n"
          ]
        }
      ]
    },
    {
      "cell_type": "markdown",
      "metadata": {
        "id": "zMasNABRqSE2"
      },
      "source": [
        "## Tidying our dataset"
      ]
    },
    {
      "cell_type": "code",
      "metadata": {
        "id": "DOxplLBoqVnz"
      },
      "source": [
        "# By displaying the data types, I have been able to observe that the date column has been assigned an object data type. This needs to be a date type datatype instead.\n",
        "Autolib['date'] = pd.to_datetime(Autolib['date'])\n",
        "\n"
      ],
      "execution_count": 9,
      "outputs": []
    },
    {
      "cell_type": "code",
      "metadata": {
        "colab": {
          "base_uri": "https://localhost:8080/"
        },
        "id": "pAeJITC3r4Lr",
        "outputId": "55d5c4b7-e73d-45a6-8cf1-495d2dd95af5"
      },
      "source": [
        "# detecting missing values in the dataset\n",
        "Autolib.isnull().sum()\n",
        "\n",
        "# there are no missing values in this dataset."
      ],
      "execution_count": 10,
      "outputs": [
        {
          "output_type": "execute_result",
          "data": {
            "text/plain": [
              "Postal code               0\n",
              "date                      0\n",
              "n_daily_data_points       0\n",
              "dayOfWeek                 0\n",
              "day_type                  0\n",
              "BlueCars_taken_sum        0\n",
              "BlueCars_returned_sum     0\n",
              "Utilib_taken_sum          0\n",
              "Utilib_returned_sum       0\n",
              "Utilib_14_taken_sum       0\n",
              "Utilib_14_returned_sum    0\n",
              "Slots_freed_sum           0\n",
              "Slots_taken_sum           0\n",
              "dtype: int64"
            ]
          },
          "metadata": {},
          "execution_count": 10
        }
      ]
    },
    {
      "cell_type": "code",
      "metadata": {
        "colab": {
          "base_uri": "https://localhost:8080/"
        },
        "id": "9OpfgwxH8k61",
        "outputId": "7912db7f-57e9-4afb-ea68-904915ce4659"
      },
      "source": [
        "# detecting anomalies in the dataset\n",
        "\n",
        "print(pd.unique(Autolib['day_type']))\n",
        "print('\\n')\n",
        "print(pd.unique(Autolib['dayOfWeek']))\n",
        "\n",
        "# the two above are discrete variables meaning only a few specified values are qualified. No anomalies were detected in the two columns"
      ],
      "execution_count": 11,
      "outputs": [
        {
          "output_type": "stream",
          "name": "stdout",
          "text": [
            "['weekday' 'weekend']\n",
            "\n",
            "\n",
            "[0 1 2 3 4 5 6]\n"
          ]
        }
      ]
    },
    {
      "cell_type": "code",
      "metadata": {
        "colab": {
          "base_uri": "https://localhost:8080/"
        },
        "id": "juAsr-Kt9V8M",
        "outputId": "3b80d1b8-15a9-4dee-f44d-071727bc792a"
      },
      "source": [
        "# there are no duplicated records in this dataset.\n",
        "\n",
        "Autolib.duplicated().any()"
      ],
      "execution_count": 12,
      "outputs": [
        {
          "output_type": "execute_result",
          "data": {
            "text/plain": [
              "False"
            ]
          },
          "metadata": {},
          "execution_count": 12
        }
      ]
    },
    {
      "cell_type": "code",
      "metadata": {
        "colab": {
          "base_uri": "https://localhost:8080/",
          "height": 0
        },
        "id": "gHlQ1FyVnB0Z",
        "outputId": "68eb7e3f-3ba7-47c5-b15c-394a551e350d"
      },
      "source": [
        "# detecting outliers.\n",
        "# plotting a boxplot to observe outliers in the number of daily data points.\n",
        "def plot_box(n):\n",
        " Autolib.boxplot(column=n, grid=True)\n",
        "\n",
        "plot_box('n_daily_data_points')\n",
        "# the outliers seem to be on the lower side."
      ],
      "execution_count": 13,
      "outputs": [
        {
          "output_type": "display_data",
          "data": {
            "image/png": "[encoded data removed]",
            "text/plain": [
              "<Figure size 576x432 with 1 Axes>"
            ]
          },
          "metadata": {
            "needs_background": "light"
          }
        }
      ]
    },
    {
      "cell_type": "code",
      "metadata": {
        "colab": {
          "base_uri": "https://localhost:8080/",
          "height": 0
        },
        "id": "zk2X66Jq9vVk",
        "outputId": "d9e76cb5-17a2-4904-f2a2-08ee15d80743"
      },
      "source": [
        "# as I am only interested in the bluecars when testing my hypothesis, I am going to create another dataset only picking data relating to blue cars.\n",
        "\n",
        "Blue_cars = Autolib.iloc[:,0:7]\n",
        "Blue_cars"
      ],
      "execution_count": 14,
      "outputs": [
        {
          "output_type": "execute_result",
          "data": {
            "text/html": [
              "<div>\n",
              "<style scoped>\n",
              "    .dataframe tbody tr th:only-of-type {\n",
              "        vertical-align: middle;\n",
              "    }\n",
              "\n",
              "    .dataframe tbody tr th {\n",
              "        vertical-align: top;\n",
              "    }\n",
              "\n",
              "    .dataframe thead th {\n",
              "        text-align: right;\n",
              "    }\n",
              "</style>\n",
              "<table border=\"1\" class=\"dataframe\">\n",
              "  <thead>\n",
              "    <tr style=\"text-align: right;\">\n",
              "      <th></th>\n",
              "      <th>Postal code</th>\n",
              "      <th>date</th>\n",
              "      <th>n_daily_data_points</th>\n",
              "      <th>dayOfWeek</th>\n",
              "      <th>day_type</th>\n",
              "      <th>BlueCars_taken_sum</th>\n",
              "      <th>BlueCars_returned_sum</th>\n",
              "    </tr>\n",
              "  </thead>\n",
              "  <tbody>\n",
              "    <tr>\n",
              "      <th>0</th>\n",
              "      <td>75001</td>\n",
              "      <td>2018-01-01</td>\n",
              "      <td>1440</td>\n",
              "      <td>0</td>\n",
              "      <td>weekday</td>\n",
              "      <td>110</td>\n",
              "      <td>103</td>\n",
              "    </tr>\n",
              "    <tr>\n",
              "      <th>1</th>\n",
              "      <td>75001</td>\n",
              "      <td>2018-01-02</td>\n",
              "      <td>1438</td>\n",
              "      <td>1</td>\n",
              "      <td>weekday</td>\n",
              "      <td>98</td>\n",
              "      <td>94</td>\n",
              "    </tr>\n",
              "    <tr>\n",
              "      <th>2</th>\n",
              "      <td>75001</td>\n",
              "      <td>2018-01-03</td>\n",
              "      <td>1439</td>\n",
              "      <td>2</td>\n",
              "      <td>weekday</td>\n",
              "      <td>138</td>\n",
              "      <td>139</td>\n",
              "    </tr>\n",
              "    <tr>\n",
              "      <th>3</th>\n",
              "      <td>75001</td>\n",
              "      <td>2018-01-04</td>\n",
              "      <td>1320</td>\n",
              "      <td>3</td>\n",
              "      <td>weekday</td>\n",
              "      <td>104</td>\n",
              "      <td>104</td>\n",
              "    </tr>\n",
              "    <tr>\n",
              "      <th>4</th>\n",
              "      <td>75001</td>\n",
              "      <td>2018-01-05</td>\n",
              "      <td>1440</td>\n",
              "      <td>4</td>\n",
              "      <td>weekday</td>\n",
              "      <td>114</td>\n",
              "      <td>117</td>\n",
              "    </tr>\n",
              "    <tr>\n",
              "      <th>...</th>\n",
              "      <td>...</td>\n",
              "      <td>...</td>\n",
              "      <td>...</td>\n",
              "      <td>...</td>\n",
              "      <td>...</td>\n",
              "      <td>...</td>\n",
              "      <td>...</td>\n",
              "    </tr>\n",
              "    <tr>\n",
              "      <th>16080</th>\n",
              "      <td>95880</td>\n",
              "      <td>2018-06-15</td>\n",
              "      <td>1440</td>\n",
              "      <td>4</td>\n",
              "      <td>weekday</td>\n",
              "      <td>15</td>\n",
              "      <td>10</td>\n",
              "    </tr>\n",
              "    <tr>\n",
              "      <th>16081</th>\n",
              "      <td>95880</td>\n",
              "      <td>2018-06-16</td>\n",
              "      <td>1440</td>\n",
              "      <td>5</td>\n",
              "      <td>weekend</td>\n",
              "      <td>19</td>\n",
              "      <td>19</td>\n",
              "    </tr>\n",
              "    <tr>\n",
              "      <th>16082</th>\n",
              "      <td>95880</td>\n",
              "      <td>2018-06-17</td>\n",
              "      <td>1440</td>\n",
              "      <td>6</td>\n",
              "      <td>weekend</td>\n",
              "      <td>33</td>\n",
              "      <td>35</td>\n",
              "    </tr>\n",
              "    <tr>\n",
              "      <th>16083</th>\n",
              "      <td>95880</td>\n",
              "      <td>2018-06-18</td>\n",
              "      <td>1440</td>\n",
              "      <td>0</td>\n",
              "      <td>weekday</td>\n",
              "      <td>11</td>\n",
              "      <td>14</td>\n",
              "    </tr>\n",
              "    <tr>\n",
              "      <th>16084</th>\n",
              "      <td>95880</td>\n",
              "      <td>2018-06-19</td>\n",
              "      <td>1370</td>\n",
              "      <td>1</td>\n",
              "      <td>weekday</td>\n",
              "      <td>2</td>\n",
              "      <td>2</td>\n",
              "    </tr>\n",
              "  </tbody>\n",
              "</table>\n",
              "<p>16085 rows × 7 columns</p>\n",
              "</div>"
            ],
            "text/plain": [
              "       Postal code       date  ...  BlueCars_taken_sum  BlueCars_returned_sum\n",
              "0            75001 2018-01-01  ...                 110                    103\n",
              "1            75001 2018-01-02  ...                  98                     94\n",
              "2            75001 2018-01-03  ...                 138                    139\n",
              "3            75001 2018-01-04  ...                 104                    104\n",
              "4            75001 2018-01-05  ...                 114                    117\n",
              "...            ...        ...  ...                 ...                    ...\n",
              "16080        95880 2018-06-15  ...                  15                     10\n",
              "16081        95880 2018-06-16  ...                  19                     19\n",
              "16082        95880 2018-06-17  ...                  33                     35\n",
              "16083        95880 2018-06-18  ...                  11                     14\n",
              "16084        95880 2018-06-19  ...                   2                      2\n",
              "\n",
              "[16085 rows x 7 columns]"
            ]
          },
          "metadata": {},
          "execution_count": 14
        }
      ]
    },
    {
      "cell_type": "markdown",
      "metadata": {
        "id": "e4f_4k8CmPeb"
      },
      "source": [
        "## Univariate analysis"
      ]
    },
    {
      "cell_type": "code",
      "metadata": {
        "colab": {
          "base_uri": "https://localhost:8080/",
          "height": 0
        },
        "id": "a6cM-ZeKmSs6",
        "outputId": "9cdc05de-a580-4bac-da6d-ac6c5cace2c0"
      },
      "source": [
        "# plotting the average number of cars taken and returned per day.\n",
        "\n",
        "# the columns I require are bluecars, utilib and utilib 14 sums for the cars taken that day.\n",
        "cars = Autolib.iloc[:,5:11:2]   # -------picking the rows indexes from 5 to 10 adn taking two steps.\n",
        "\n",
        "# finding the mean of the number of cars.\n",
        "averages = cars.mean()\n",
        "\n",
        "# plotting the bar graph\n",
        "averages.plot(kind= 'bar', color='#A81502')\n",
        "plt.ylabel(\"Average number of cars\")\n",
        "plt.title(\"Mean number of cars taken per day\")\n",
        "\n",
        "# bluecars seem to be way more popular among customers that the other electric cars."
      ],
      "execution_count": 15,
      "outputs": [
        {
          "output_type": "execute_result",
          "data": {
            "text/plain": [
              "Text(0.5, 1.0, 'Mean number of cars taken per day')"
            ]
          },
          "metadata": {},
          "execution_count": 15
        },
        {
          "output_type": "display_data",
          "data": {
            "image/png": "[encoded data removed]",
            "text/plain": [
              "<Figure size 576x432 with 1 Axes>"
            ]
          },
          "metadata": {
            "needs_background": "light"
          }
        }
      ]
    },
    {
      "cell_type": "code",
      "metadata": {
        "colab": {
          "base_uri": "https://localhost:8080/",
          "height": 0
        },
        "id": "cy8BChBW4lqN",
        "outputId": "eb8f6228-87f5-40fd-bb10-c8ae87674383"
      },
      "source": [
        "# finding the modal postal code for blue cars, i.e, the postal code with the highest number of bluecars having been borrowed.\n",
        "modal_code = Autolib.iloc[:,0:8:2]\n",
        "mode_code = modal_code.groupby(by='Postal code').sum().sort_values(by='BlueCars_returned_sum', ascending= False)\n",
        "pcm = pd.DataFrame(mode_code) # -----pcm for postal code mode\n",
        "pcm\n",
        "\n",
        "# that postal code is 75015."
      ],
      "execution_count": 16,
      "outputs": [
        {
          "output_type": "execute_result",
          "data": {
            "text/html": [
              "<div>\n",
              "<style scoped>\n",
              "    .dataframe tbody tr th:only-of-type {\n",
              "        vertical-align: middle;\n",
              "    }\n",
              "\n",
              "    .dataframe tbody tr th {\n",
              "        vertical-align: top;\n",
              "    }\n",
              "\n",
              "    .dataframe thead th {\n",
              "        text-align: right;\n",
              "    }\n",
              "</style>\n",
              "<table border=\"1\" class=\"dataframe\">\n",
              "  <thead>\n",
              "    <tr style=\"text-align: right;\">\n",
              "      <th></th>\n",
              "      <th>n_daily_data_points</th>\n",
              "      <th>BlueCars_returned_sum</th>\n",
              "    </tr>\n",
              "    <tr>\n",
              "      <th>Postal code</th>\n",
              "      <th></th>\n",
              "      <th></th>\n",
              "    </tr>\n",
              "  </thead>\n",
              "  <tbody>\n",
              "    <tr>\n",
              "      <th>75015</th>\n",
              "      <td>223281</td>\n",
              "      <td>139943</td>\n",
              "    </tr>\n",
              "    <tr>\n",
              "      <th>75016</th>\n",
              "      <td>223281</td>\n",
              "      <td>123222</td>\n",
              "    </tr>\n",
              "    <tr>\n",
              "      <th>75017</th>\n",
              "      <td>223281</td>\n",
              "      <td>114541</td>\n",
              "    </tr>\n",
              "    <tr>\n",
              "      <th>75013</th>\n",
              "      <td>223281</td>\n",
              "      <td>84449</td>\n",
              "    </tr>\n",
              "    <tr>\n",
              "      <th>75019</th>\n",
              "      <td>223281</td>\n",
              "      <td>82023</td>\n",
              "    </tr>\n",
              "    <tr>\n",
              "      <th>...</th>\n",
              "      <td>...</td>\n",
              "      <td>...</td>\n",
              "    </tr>\n",
              "    <tr>\n",
              "      <th>93150</th>\n",
              "      <td>216155</td>\n",
              "      <td>789</td>\n",
              "    </tr>\n",
              "    <tr>\n",
              "      <th>94100</th>\n",
              "      <td>221911</td>\n",
              "      <td>746</td>\n",
              "    </tr>\n",
              "    <tr>\n",
              "      <th>93370</th>\n",
              "      <td>213334</td>\n",
              "      <td>556</td>\n",
              "    </tr>\n",
              "    <tr>\n",
              "      <th>93440</th>\n",
              "      <td>216130</td>\n",
              "      <td>526</td>\n",
              "    </tr>\n",
              "    <tr>\n",
              "      <th>93390</th>\n",
              "      <td>120431</td>\n",
              "      <td>302</td>\n",
              "    </tr>\n",
              "  </tbody>\n",
              "</table>\n",
              "<p>104 rows × 2 columns</p>\n",
              "</div>"
            ],
            "text/plain": [
              "             n_daily_data_points  BlueCars_returned_sum\n",
              "Postal code                                            \n",
              "75015                     223281                 139943\n",
              "75016                     223281                 123222\n",
              "75017                     223281                 114541\n",
              "75013                     223281                  84449\n",
              "75019                     223281                  82023\n",
              "...                          ...                    ...\n",
              "93150                     216155                    789\n",
              "94100                     221911                    746\n",
              "93370                     213334                    556\n",
              "93440                     216130                    526\n",
              "93390                     120431                    302\n",
              "\n",
              "[104 rows x 2 columns]"
            ]
          },
          "metadata": {},
          "execution_count": 16
        }
      ]
    },
    {
      "cell_type": "markdown",
      "metadata": {
        "id": "3QDsQIEf-Iyy"
      },
      "source": [
        "## Bivariate Analysis\n"
      ]
    },
    {
      "cell_type": "code",
      "metadata": {
        "colab": {
          "base_uri": "https://localhost:8080/",
          "height": 405
        },
        "id": "JIbrFAmN-Iiv",
        "outputId": "0c109760-389b-4b07-c8ee-4fc514431bb3"
      },
      "source": [
        "# plotting the number of cars taken on each day of the week.\n",
        "days = Autolib.iloc[:,3:11:2]  # -------- picking from the dataset, the columns; dayOfWeek, BlueCars_taken_sum, Utilib_taken_sum and Utilib_14_taken_sum\n",
        "\n",
        "# grouping by the days of the week.\n",
        "# I prefer using the average as some days may have more entries than others.\n",
        "days_of_the_week = days.groupby(by='dayOfWeek').mean()\n",
        "\n",
        "# defining a function for plotting a stacked graph\n",
        "def plot_stacked(dataset, title):\n",
        " dataset.plot(kind='bar', stacked=True)\n",
        " plt.title(title)\n",
        " plt.ylabel('Car count')\n",
        " plt.show()\n",
        "\n",
        "# executing the function\n",
        "plot_stacked(days_of_the_week, \"Average number of cars taken in terms of day of the week.\") \n",
        "\n",
        "# five(Saturday) is the day with the highest average number of blue cars having been borrowed.\n",
        "# Sunday and Friday have the second and third highest average number of blue cars being borrowed.\n",
        "# Weekdays, other than Friday, don't seem to be very popular."
      ],
      "execution_count": 17,
      "outputs": [
        {
          "output_type": "display_data",
          "data": {
            "image/png": "[encoded data removed]",
            "text/plain": [
              "<Figure size 576x432 with 1 Axes>"
            ]
          },
          "metadata": {
            "needs_background": "light"
          }
        }
      ]
    },
    {
      "cell_type": "code",
      "metadata": {
        "colab": {
          "base_uri": "https://localhost:8080/",
          "height": 444
        },
        "id": "LjRzk29wB4v5",
        "outputId": "57d8d66c-2d08-49f4-bb21-c58e0375667a"
      },
      "source": [
        "# plotting the number of cars taken during different day types, that is, weekends and weekdays.\n",
        "\n",
        "day_type = Autolib.iloc[:,4:11]\n",
        "\n",
        "# grouping the data by day type\n",
        "dt = day_type.groupby(by='day_type').mean()\n",
        "\n",
        "# plotting my bar graph\n",
        "dt.plot(kind='bar')\n",
        "plt.title(\"Number of cars in terms of day type: weekday or weekend.\")\n",
        "plt.ylabel(\"Number of cars\")\n",
        "plt.show()\n",
        "\n",
        "# The average number of the electric cars being shared in higher during the weekends than the weekdays for all the electric cars."
      ],
      "execution_count": 18,
      "outputs": [
        {
          "output_type": "display_data",
          "data": {
            "image/png": "[encoded data removed]",
            "text/plain": [
              "<Figure size 576x432 with 1 Axes>"
            ]
          },
          "metadata": {
            "needs_background": "light"
          }
        }
      ]
    },
    {
      "cell_type": "code",
      "metadata": {
        "colab": {
          "base_uri": "https://localhost:8080/",
          "height": 392
        },
        "id": "oRguy7crC_bU",
        "outputId": "d69001d7-ed39-4f09-f0a5-f5dd1b2680da"
      },
      "source": [
        "# plotting the total number of cars taken per month.\n",
        "\n",
        "# selecting the columns I am interested in.\n",
        "months = Autolib.iloc[:,1:11]\n",
        "\n",
        "# dropping the unnecessary columns.\n",
        "months = months.drop('n_daily_data_points', axis=1)\n",
        "months = months.drop('dayOfWeek', axis=1)\n",
        "\n",
        "# defining a function for plotting a line graph.\n",
        "def plot_linegraph(by,column1,column2,column3, title):\n",
        "\n",
        "  # setting the condition that if by is set to day, the day of the month will be extracted from the date column.\n",
        "  if by == 'day':\n",
        "   mwezi = pd.DatetimeIndex(months['date']).day\n",
        "  # and if by is set to month, the month is extracted from the date column.\n",
        "  elif by == 'month':\n",
        "   mwezi = pd.DatetimeIndex(months['date']).month\n",
        "\n",
        "  m = months.groupby(mwezi).mean()  # mwezi is the extracted day or month, depending on what is specified. The data is grouped by this set parameter.\n",
        "  x = m.index\n",
        "  # y,z and a are the car count columns I wish to plot\n",
        "  y = m[column1]\n",
        "  z = m[column2]\n",
        "  a = m[column3]\n",
        "  # plotting the three line graphs in one graph.\n",
        "  plt.plot(x,y,marker='o', label= f'{column1}')\n",
        "  plt.plot(x,z,marker='o', label= f'{column2}')\n",
        "  plt.plot(x,a,marker='o', label= f'{column3}')\n",
        "  # setting the title, legend and ylabel\n",
        "  plt.title(title)\n",
        "  plt.ylabel('Number of cars')\n",
        "  plt.legend()\n",
        "  plt.show()\n",
        "\n",
        "# executing the function. I specified by month and therefore the the graph will be plotted for the months.\n",
        "plot_linegraph(by='month',column1='BlueCars_taken_sum',column2='Utilib_taken_sum',column3='Utilib_14_taken_sum',title='Graph of cars taken across the months.')\n",
        "\n",
        "# The month with highest average of blue cars borrowed appears to be the month of January, followed closely by the month of March.\n",
        "# June has the lowest average."
      ],
      "execution_count": 19,
      "outputs": [
        {
          "output_type": "display_data",
          "data": {
            "image/png": "[encoded data removed]",
            "text/plain": [
              "<Figure size 576x432 with 1 Axes>"
            ]
          },
          "metadata": {
            "needs_background": "light"
          }
        }
      ]
    },
    {
      "cell_type": "code",
      "metadata": {
        "colab": {
          "base_uri": "https://localhost:8080/",
          "height": 392
        },
        "id": "UThSVAfaI_gv",
        "outputId": "27d64d82-6c6e-41ba-caf1-42519d30dbec"
      },
      "source": [
        "# plotting the graph of the cars by the day on the calender.\n",
        "# specifying by day, the output display the averages for the days of the month.\n",
        "plot_linegraph(by='day',column1='BlueCars_returned_sum',column2='Utilib_returned_sum',column3='Utilib_14_returned_sum',title='Graph of returned cars in terms of day.')\n",
        "\n",
        "# The day with the highest average appears to be the 3rd and the lowest the 31st."
      ],
      "execution_count": 20,
      "outputs": [
        {
          "output_type": "display_data",
          "data": {
            "image/png": "[encoded data removed]",
            "text/plain": [
              "<Figure size 576x432 with 1 Axes>"
            ]
          },
          "metadata": {
            "needs_background": "light"
          }
        }
      ]
    },
    {
      "cell_type": "code",
      "metadata": {
        "colab": {
          "base_uri": "https://localhost:8080/",
          "height": 391
        },
        "id": "lnbIVdyIZxhr",
        "outputId": "ec2cb797-c0e9-4e5b-d94f-7b9d0d4c5a7f"
      },
      "source": [
        "# plotting the number of bluecars returned in terms of postal code\n",
        "# even though postal code is a dicrete variable, I will use a scatter plot nonetheless as plotting using bar and line, proved to be difficult considering the column has\n",
        "# 104 discrete values.\n",
        "\n",
        "# selecting the columns I need. That is, the postal code column and the bluecars borrowed.\n",
        "blue_postal = Autolib.iloc[:,0:6:5]\n",
        "\n",
        "# grouping by postal code and aggregating by bluecars_taken_sum\n",
        "blue_code = blue_postal.groupby(by='Postal code')['BlueCars_taken_sum'].sum()\n",
        "\n",
        "# creating a dataframe from the grouped and aggregated data.\n",
        "blue_code = pd.DataFrame(blue_code)\n",
        "\n",
        "# plotting a scatter plot.\n",
        "x = blue_code.index \n",
        "y = blue_code['BlueCars_taken_sum']\n",
        "sns.regplot(x=y,y=x, scatter= True)\n",
        "\n",
        "plt.savefig('pcVsbc.png')\n",
        "\n",
        "# from observing the scatter plot below, I am able to come to the foollowing conclusion:\n",
        "#  1. The areas with postal codes between 75000 and 80000, have a higher variation of borrowed cars, meaning a larger variation in customer interactions in comparison\n",
        "#     to the areas with postal codes between 90000 t0 95000\n"
      ],
      "execution_count": 21,
      "outputs": [
        {
          "output_type": "display_data",
          "data": {
            "image/png": "[encoded data removed]",
            "text/plain": [
              "<Figure size 576x432 with 1 Axes>"
            ]
          },
          "metadata": {
            "needs_background": "light"
          }
        }
      ]
    },
    {
      "cell_type": "markdown",
      "metadata": {
        "id": "K71c-5Jq8NQ0"
      },
      "source": [
        "## Hypothesis Testing"
      ]
    },
    {
      "cell_type": "code",
      "metadata": {
        "colab": {
          "base_uri": "https://localhost:8080/"
        },
        "id": "bjVlP8ZHuVRD",
        "outputId": "d36eb53f-3ef0-4f36-b331-fbee6c664732"
      },
      "source": [
        "# my null hypothesis states that there is no significant difference in numbers of blue car consumers between the areas with postal codes between 75000 and 80000\n",
        "# an areas with postal codes between 90000 and 95000.\n",
        "# my alternative hypothesis states that numbers of blue car consumers are higher in areas with postal codes ranging from 75000-80000 than areas ranging from 90000 to 95000.\n",
        "\n",
        "blue_postal # ------- contains data columns postal code and BlueCars_taken_sum\n",
        "\n",
        "seven_to_eight = blue_postal[(blue_postal['Postal code']> 74999)&(blue_postal['Postal code']<80001)]   # ------ picking from the example dataset the two ranges.\n",
        "nine_to_five = blue_postal[(blue_postal['Postal code']>89999)&(blue_postal['Postal code']<95001)]\n",
        "\n",
        "print(nine_to_five.shape)  # ---------- the department with postal codes 90000 to 95000 are 11718\n",
        "print(seven_to_eight.shape) # ------------ the departments with postal codes 75000 to 80000 are 3899\n",
        "\n",
        "# getting an identifier for both datasets.The identifiers will be used to group. \n",
        "\n",
        "nine_to_five['Identifiers'] = 'postal code 90k to 95k'\n",
        "seven_to_eight['Identifiers'] = 'postal code 75k to 80k'\n",
        "\n",
        "# merging the two datasets \n",
        "my_dataset = pd.concat([seven_to_eight,nine_to_five], axis=0)\n",
        "my_dataset\n",
        "\n",
        "# our dataset has 15617 records. A sample of 375 should do.\n",
        "# finding the ratio of the sample to the population. -------> 0.024012294294678875\n",
        "print(375/15617)"
      ],
      "execution_count": 22,
      "outputs": [
        {
          "output_type": "stream",
          "name": "stdout",
          "text": [
            "(11718, 2)\n",
            "(3899, 2)\n",
            "0.024012294294678875\n"
          ]
        },
        {
          "output_type": "stream",
          "name": "stderr",
          "text": [
            "/usr/local/lib/python3.7/dist-packages/ipykernel_launcher.py:15: SettingWithCopyWarning: \n",
            "A value is trying to be set on a copy of a slice from a DataFrame.\n",
            "Try using .loc[row_indexer,col_indexer] = value instead\n",
            "\n",
            "See the caveats in the documentation: https://pandas.pydata.org/pandas-docs/stable/user_guide/indexing.html#returning-a-view-versus-a-copy\n",
            "  from ipykernel import kernelapp as app\n",
            "/usr/local/lib/python3.7/dist-packages/ipykernel_launcher.py:16: SettingWithCopyWarning: \n",
            "A value is trying to be set on a copy of a slice from a DataFrame.\n",
            "Try using .loc[row_indexer,col_indexer] = value instead\n",
            "\n",
            "See the caveats in the documentation: https://pandas.pydata.org/pandas-docs/stable/user_guide/indexing.html#returning-a-view-versus-a-copy\n",
            "  app.launch_new_instance()\n"
          ]
        }
      ]
    },
    {
      "cell_type": "code",
      "metadata": {
        "colab": {
          "base_uri": "https://localhost:8080/",
          "height": 445
        },
        "id": "gt5l1Nu8wLkx",
        "outputId": "ddb6084a-2496-4e4c-aa64-4618ac285626"
      },
      "source": [
        "# testing the normality of my dataset.\n",
        "# Importing libraries to plot our Q-Q plot\n",
        "from statsmodels.graphics.gofplots import qqplot\n",
        "from matplotlib import pyplot\n",
        "\n",
        "\n",
        "# q-q plot\n",
        "qqplot(my_dataset['BlueCars_taken_sum'], line='s')\n",
        "pyplot.show()\n",
        "\n",
        "# from the qq-plot below, the sample distribution does not appear to resemble a normal distribution. "
      ],
      "execution_count": 23,
      "outputs": [
        {
          "output_type": "stream",
          "name": "stderr",
          "text": [
            "/usr/local/lib/python3.7/dist-packages/statsmodels/tools/_testing.py:19: FutureWarning: pandas.util.testing is deprecated. Use the functions in the public API at pandas.testing instead.\n",
            "  import pandas.util.testing as tm\n"
          ]
        },
        {
          "output_type": "display_data",
          "data": {
            "image/png": "[encoded data removed]",
            "text/plain": [
              "<Figure size 576x432 with 1 Axes>"
            ]
          },
          "metadata": {
            "needs_background": "light"
          }
        }
      ]
    },
    {
      "cell_type": "code",
      "metadata": {
        "colab": {
          "base_uri": "https://localhost:8080/",
          "height": 419
        },
        "id": "u1Ja3qLxwdRo",
        "outputId": "8399cbfc-51c8-4b4c-c553-3a41cb834faa"
      },
      "source": [
        "# I needed to decide on the sampling method I will use to obtain my sample.\n",
        "# Upon calculation.....I have decided on a sample size of 375.\n",
        "# my population size is 15617. I decided to use stratified sampling to get a similar ratio for the two postal code ranges to the ratio in the dataset.\n",
        "\n",
        "\n",
        "sample_x = my_dataset.groupby(by='Identifiers', group_keys=False).apply(lambda y: y.sample(frac=0.024012294294678875))  # ---- the fraction inserted here is the sample to population ratio calculated previously.\n",
        "sample_x    # ------- our sample size is 375."
      ],
      "execution_count": 24,
      "outputs": [
        {
          "output_type": "execute_result",
          "data": {
            "text/html": [
              "<div>\n",
              "<style scoped>\n",
              "    .dataframe tbody tr th:only-of-type {\n",
              "        vertical-align: middle;\n",
              "    }\n",
              "\n",
              "    .dataframe tbody tr th {\n",
              "        vertical-align: top;\n",
              "    }\n",
              "\n",
              "    .dataframe thead th {\n",
              "        text-align: right;\n",
              "    }\n",
              "</style>\n",
              "<table border=\"1\" class=\"dataframe\">\n",
              "  <thead>\n",
              "    <tr style=\"text-align: right;\">\n",
              "      <th></th>\n",
              "      <th>Postal code</th>\n",
              "      <th>BlueCars_taken_sum</th>\n",
              "      <th>Identifiers</th>\n",
              "    </tr>\n",
              "  </thead>\n",
              "  <tbody>\n",
              "    <tr>\n",
              "      <th>310</th>\n",
              "      <td>75002</td>\n",
              "      <td>138</td>\n",
              "      <td>postal code 75k to 80k</td>\n",
              "    </tr>\n",
              "    <tr>\n",
              "      <th>771</th>\n",
              "      <td>75005</td>\n",
              "      <td>333</td>\n",
              "      <td>postal code 75k to 80k</td>\n",
              "    </tr>\n",
              "    <tr>\n",
              "      <th>2220</th>\n",
              "      <td>75015</td>\n",
              "      <td>781</td>\n",
              "      <td>postal code 75k to 80k</td>\n",
              "    </tr>\n",
              "    <tr>\n",
              "      <th>209</th>\n",
              "      <td>75002</td>\n",
              "      <td>190</td>\n",
              "      <td>postal code 75k to 80k</td>\n",
              "    </tr>\n",
              "    <tr>\n",
              "      <th>2236</th>\n",
              "      <td>75015</td>\n",
              "      <td>765</td>\n",
              "      <td>postal code 75k to 80k</td>\n",
              "    </tr>\n",
              "    <tr>\n",
              "      <th>...</th>\n",
              "      <td>...</td>\n",
              "      <td>...</td>\n",
              "      <td>...</td>\n",
              "    </tr>\n",
              "    <tr>\n",
              "      <th>11540</th>\n",
              "      <td>93350</td>\n",
              "      <td>16</td>\n",
              "      <td>postal code 90k to 95k</td>\n",
              "    </tr>\n",
              "    <tr>\n",
              "      <th>4590</th>\n",
              "      <td>92100</td>\n",
              "      <td>346</td>\n",
              "      <td>postal code 90k to 95k</td>\n",
              "    </tr>\n",
              "    <tr>\n",
              "      <th>4131</th>\n",
              "      <td>91370</td>\n",
              "      <td>5</td>\n",
              "      <td>postal code 90k to 95k</td>\n",
              "    </tr>\n",
              "    <tr>\n",
              "      <th>9830</th>\n",
              "      <td>92800</td>\n",
              "      <td>123</td>\n",
              "      <td>postal code 90k to 95k</td>\n",
              "    </tr>\n",
              "    <tr>\n",
              "      <th>4215</th>\n",
              "      <td>91400</td>\n",
              "      <td>2</td>\n",
              "      <td>postal code 90k to 95k</td>\n",
              "    </tr>\n",
              "  </tbody>\n",
              "</table>\n",
              "<p>375 rows × 3 columns</p>\n",
              "</div>"
            ],
            "text/plain": [
              "       Postal code  BlueCars_taken_sum             Identifiers\n",
              "310          75002                 138  postal code 75k to 80k\n",
              "771          75005                 333  postal code 75k to 80k\n",
              "2220         75015                 781  postal code 75k to 80k\n",
              "209          75002                 190  postal code 75k to 80k\n",
              "2236         75015                 765  postal code 75k to 80k\n",
              "...            ...                 ...                     ...\n",
              "11540        93350                  16  postal code 90k to 95k\n",
              "4590         92100                 346  postal code 90k to 95k\n",
              "4131         91370                   5  postal code 90k to 95k\n",
              "9830         92800                 123  postal code 90k to 95k\n",
              "4215         91400                   2  postal code 90k to 95k\n",
              "\n",
              "[375 rows x 3 columns]"
            ]
          },
          "metadata": {},
          "execution_count": 24
        }
      ]
    },
    {
      "cell_type": "code",
      "metadata": {
        "id": "F643CZOewtlw"
      },
      "source": [
        "n =sample_x[sample_x['Identifiers'] == 'postal code 90k to 95k']\n",
        "s =sample_x[sample_x['Identifiers'] == 'postal code 75k to 80k']\n",
        "# obtaining the two series for number of blue cars taken \n",
        "nines = n['BlueCars_taken_sum']\n",
        "sevens = s['BlueCars_taken_sum']"
      ],
      "execution_count": 25,
      "outputs": []
    },
    {
      "cell_type": "code",
      "metadata": {
        "colab": {
          "base_uri": "https://localhost:8080/"
        },
        "id": "Y52-VO3mwzRE",
        "outputId": "33ac7da9-e2bb-47ff-bc4a-126fc49e0587"
      },
      "source": [
        "# the significance level that I will use is 0.05.\n",
        "# my confidence level is 0.95 and it's corresponding critical value is 1.96.\n",
        "# my test is a right tailed test as the alternative hypothesis states that the areas in postal code range 75k t0 80k has their numbers of blue car consumers are greater than\n",
        "# the areas with posatl codes ranging from 90-95k.\n",
        "# Therefore in the alternative parameter, we will specify larger, as per my claim that there is a difference and hence it is larger than 0. \n",
        "\n",
        "from statsmodels.stats import weightstats as stests\n",
        "\n",
        "z_score ,pvalue = stests.ztest(sevens, nines, value=0,alternative='larger')\n",
        "print(float(pvalue))\n",
        "print('\\n')\n",
        "print(z_score)\n",
        "if pvalue<0.05:\n",
        "    print(\"reject null hypothesis\")\n",
        "else:\n",
        "    print(\"accept null hypothesis\")\n",
        "\n",
        "# the zscore is larger than the critical value and hence out of bounds of the 95% confidence level.\n",
        "# from the zscore and pvalue , I can reject the null hypothesis in favour of my alternative hypothesis."
      ],
      "execution_count": 26,
      "outputs": [
        {
          "output_type": "stream",
          "name": "stdout",
          "text": [
            "1.4874775917206627e-72\n",
            "\n",
            "\n",
            "17.976538486526366\n",
            "reject null hypothesis\n"
          ]
        }
      ]
    }
  ]
}